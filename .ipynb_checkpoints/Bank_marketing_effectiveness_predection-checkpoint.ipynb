{
 "cells": [
  {
   "cell_type": "markdown",
   "id": "8cc9d638-5fef-4947-bdb2-1995c42b779c",
   "metadata": {},
   "source": [
    "# Project Name - Bank Marketing Effectiveness"
   ]
  },
  {
   "cell_type": "markdown",
   "id": "c0952fea-4e2f-4001-bfee-eaf0eeab32d7",
   "metadata": {},
   "source": [
    "# Project Summary -"
   ]
  },
  {
   "cell_type": "markdown",
   "id": "ef3f4748-be02-43df-9bed-bd67aa00a1c8",
   "metadata": {},
   "source": [
    "The Data is related to direct marketing camping (phone calls) of a portugies Banking Institution. The marketing camping were based on phone calls. Offen more than one contact to the same client is required, in order to asses if the product ('bank term deposit') would be 'Yes' or 'No' subscribed. The classification gole is to predect, if the client will subscribe to a term deposite or not."
   ]
  },
  {
   "cell_type": "markdown",
   "id": "40d99d35-31fa-449c-a6d0-94ed7fb74de1",
   "metadata": {},
   "source": [
    "# GitHub Link -\n",
    "\n",
    "https://github.com/Dodo27091991/Bank_marketing_effectiveness_predection.git"
   ]
  },
  {
   "cell_type": "markdown",
   "id": "d3158d0d-e1c1-41cf-987e-5f1bd8e4aba4",
   "metadata": {},
   "source": [
    "# Problem Statement"
   ]
  },
  {
   "cell_type": "markdown",
   "id": "22e55795-8bb1-459e-b542-67040e53312c",
   "metadata": {},
   "source": [
    "Project is suppose to predict that if the customer will be subscribing to the term deposite based on the below data provided. So that in future marketing camping can be more effecient and productive. The project have to used data in below mentioned categories.\n",
    "\n",
    "1. Age\n",
    "2. Job\n",
    "3. Maritial Status\n",
    "4. Education\n",
    "5. default\n",
    "6. balance\n",
    "7. Housing\n",
    "8. Loan contact day"
   ]
  },
  {
   "cell_type": "markdown",
   "id": "7c4e329e-8f22-414a-85be-e53505e51b56",
   "metadata": {},
   "source": [
    "# Objective -\n"
   ]
  },
  {
   "cell_type": "markdown",
   "id": "33b433fa-6b79-4a55-b13f-662e2a534f4d",
   "metadata": {},
   "source": [
    "The data is related to marketing campings (phone calls) of a portugese banking institution. The camping were based on phone calls in order to asses if the product Bank Term Deposit would be Yes or No subscribed.\n",
    "\n",
    "Our Goal is to predict if the client will subscribe to the term deposite."
   ]
  },
  {
   "cell_type": "code",
   "execution_count": 2,
   "id": "c3263320-d883-4427-8385-b06dd9e7e5ab",
   "metadata": {},
   "outputs": [],
   "source": [
    "# Importing the required library\n",
    "import numpy as np\n",
    "import pandas as pd\n",
    "from numpy import math\n",
    "import seaborn as sns\n",
    "import matplotlib.pyplot as plt\n",
    "\n",
    "from sklearn.linear_model import LogisticRegression\n",
    "from sklearn.model_selection import train_test_split\n",
    "from sklearn.metrics import accuracy_score\n",
    "from sklearn.model_selection import cross_val_score\n",
    "\n",
    "from sklearn.metrics import confusion_matrix"
   ]
  },
  {
   "cell_type": "markdown",
   "id": "85b7a1f5-3a4e-41d2-bc1b-a0174945c386",
   "metadata": {},
   "source": [
    "# Mounting the Drive and Reading the Dataset"
   ]
  },
  {
   "cell_type": "code",
   "execution_count": 3,
   "id": "3c21bda1-ae6a-4524-958d-b523226cca18",
   "metadata": {},
   "outputs": [],
   "source": [
    "pd.set_option('display.max_columns',None)"
   ]
  },
  {
   "cell_type": "code",
   "execution_count": 5,
   "id": "1715904c-eadd-47b9-a231-306750363f8d",
   "metadata": {},
   "outputs": [],
   "source": [
    "df = pd.read_csv('/home/siddhant/Documents/Bank_marketing_effectiveness_predection/bank-full.csv',sep=';')"
   ]
  },
  {
   "cell_type": "code",
   "execution_count": 6,
   "id": "5da9549b-c4cd-4eac-89c5-e7dee47d9757",
   "metadata": {},
   "outputs": [
    {
     "data": {
      "text/plain": [
       "array(['married', 'single', 'divorced'], dtype=object)"
      ]
     },
     "execution_count": 6,
     "metadata": {},
     "output_type": "execute_result"
    }
   ],
   "source": [
    "df.marital.unique()"
   ]
  },
  {
   "cell_type": "markdown",
   "id": "68c71942-cd4b-4613-919f-b16ee16d9966",
   "metadata": {},
   "source": [
    "# Exploring the dataset"
   ]
  },
  {
   "cell_type": "code",
   "execution_count": 7,
   "id": "339f9977-6b36-45be-a130-4d66ba3f8987",
   "metadata": {},
   "outputs": [
    {
     "data": {
      "text/html": [
       "<div>\n",
       "<style scoped>\n",
       "    .dataframe tbody tr th:only-of-type {\n",
       "        vertical-align: middle;\n",
       "    }\n",
       "\n",
       "    .dataframe tbody tr th {\n",
       "        vertical-align: top;\n",
       "    }\n",
       "\n",
       "    .dataframe thead th {\n",
       "        text-align: right;\n",
       "    }\n",
       "</style>\n",
       "<table border=\"1\" class=\"dataframe\">\n",
       "  <thead>\n",
       "    <tr style=\"text-align: right;\">\n",
       "      <th></th>\n",
       "      <th>age</th>\n",
       "      <th>job</th>\n",
       "      <th>marital</th>\n",
       "      <th>education</th>\n",
       "      <th>default</th>\n",
       "      <th>balance</th>\n",
       "      <th>housing</th>\n",
       "      <th>loan</th>\n",
       "      <th>contact</th>\n",
       "      <th>day</th>\n",
       "      <th>month</th>\n",
       "      <th>duration</th>\n",
       "      <th>campaign</th>\n",
       "      <th>pdays</th>\n",
       "      <th>previous</th>\n",
       "      <th>poutcome</th>\n",
       "      <th>y</th>\n",
       "    </tr>\n",
       "  </thead>\n",
       "  <tbody>\n",
       "    <tr>\n",
       "      <th>0</th>\n",
       "      <td>58</td>\n",
       "      <td>management</td>\n",
       "      <td>married</td>\n",
       "      <td>tertiary</td>\n",
       "      <td>no</td>\n",
       "      <td>2143</td>\n",
       "      <td>yes</td>\n",
       "      <td>no</td>\n",
       "      <td>unknown</td>\n",
       "      <td>5</td>\n",
       "      <td>may</td>\n",
       "      <td>261</td>\n",
       "      <td>1</td>\n",
       "      <td>-1</td>\n",
       "      <td>0</td>\n",
       "      <td>unknown</td>\n",
       "      <td>no</td>\n",
       "    </tr>\n",
       "    <tr>\n",
       "      <th>1</th>\n",
       "      <td>44</td>\n",
       "      <td>technician</td>\n",
       "      <td>single</td>\n",
       "      <td>secondary</td>\n",
       "      <td>no</td>\n",
       "      <td>29</td>\n",
       "      <td>yes</td>\n",
       "      <td>no</td>\n",
       "      <td>unknown</td>\n",
       "      <td>5</td>\n",
       "      <td>may</td>\n",
       "      <td>151</td>\n",
       "      <td>1</td>\n",
       "      <td>-1</td>\n",
       "      <td>0</td>\n",
       "      <td>unknown</td>\n",
       "      <td>no</td>\n",
       "    </tr>\n",
       "    <tr>\n",
       "      <th>2</th>\n",
       "      <td>33</td>\n",
       "      <td>entrepreneur</td>\n",
       "      <td>married</td>\n",
       "      <td>secondary</td>\n",
       "      <td>no</td>\n",
       "      <td>2</td>\n",
       "      <td>yes</td>\n",
       "      <td>yes</td>\n",
       "      <td>unknown</td>\n",
       "      <td>5</td>\n",
       "      <td>may</td>\n",
       "      <td>76</td>\n",
       "      <td>1</td>\n",
       "      <td>-1</td>\n",
       "      <td>0</td>\n",
       "      <td>unknown</td>\n",
       "      <td>no</td>\n",
       "    </tr>\n",
       "    <tr>\n",
       "      <th>3</th>\n",
       "      <td>47</td>\n",
       "      <td>blue-collar</td>\n",
       "      <td>married</td>\n",
       "      <td>unknown</td>\n",
       "      <td>no</td>\n",
       "      <td>1506</td>\n",
       "      <td>yes</td>\n",
       "      <td>no</td>\n",
       "      <td>unknown</td>\n",
       "      <td>5</td>\n",
       "      <td>may</td>\n",
       "      <td>92</td>\n",
       "      <td>1</td>\n",
       "      <td>-1</td>\n",
       "      <td>0</td>\n",
       "      <td>unknown</td>\n",
       "      <td>no</td>\n",
       "    </tr>\n",
       "    <tr>\n",
       "      <th>4</th>\n",
       "      <td>33</td>\n",
       "      <td>unknown</td>\n",
       "      <td>single</td>\n",
       "      <td>unknown</td>\n",
       "      <td>no</td>\n",
       "      <td>1</td>\n",
       "      <td>no</td>\n",
       "      <td>no</td>\n",
       "      <td>unknown</td>\n",
       "      <td>5</td>\n",
       "      <td>may</td>\n",
       "      <td>198</td>\n",
       "      <td>1</td>\n",
       "      <td>-1</td>\n",
       "      <td>0</td>\n",
       "      <td>unknown</td>\n",
       "      <td>no</td>\n",
       "    </tr>\n",
       "  </tbody>\n",
       "</table>\n",
       "</div>"
      ],
      "text/plain": [
       "   age           job  marital  education default  balance housing loan  \\\n",
       "0   58    management  married   tertiary      no     2143     yes   no   \n",
       "1   44    technician   single  secondary      no       29     yes   no   \n",
       "2   33  entrepreneur  married  secondary      no        2     yes  yes   \n",
       "3   47   blue-collar  married    unknown      no     1506     yes   no   \n",
       "4   33       unknown   single    unknown      no        1      no   no   \n",
       "\n",
       "   contact  day month  duration  campaign  pdays  previous poutcome   y  \n",
       "0  unknown    5   may       261         1     -1         0  unknown  no  \n",
       "1  unknown    5   may       151         1     -1         0  unknown  no  \n",
       "2  unknown    5   may        76         1     -1         0  unknown  no  \n",
       "3  unknown    5   may        92         1     -1         0  unknown  no  \n",
       "4  unknown    5   may       198         1     -1         0  unknown  no  "
      ]
     },
     "execution_count": 7,
     "metadata": {},
     "output_type": "execute_result"
    }
   ],
   "source": [
    "df.head()"
   ]
  },
  {
   "cell_type": "code",
   "execution_count": 8,
   "id": "23c13c88-c531-4b26-b3f1-4ca3c3226d18",
   "metadata": {},
   "outputs": [
    {
     "data": {
      "text/plain": [
       "(45211, 17)"
      ]
     },
     "execution_count": 8,
     "metadata": {},
     "output_type": "execute_result"
    }
   ],
   "source": [
    "df.shape"
   ]
  },
  {
   "cell_type": "code",
   "execution_count": 9,
   "id": "04bd8e83-2f99-408e-ad62-65d2304873b1",
   "metadata": {},
   "outputs": [
    {
     "data": {
      "text/html": [
       "<div>\n",
       "<style scoped>\n",
       "    .dataframe tbody tr th:only-of-type {\n",
       "        vertical-align: middle;\n",
       "    }\n",
       "\n",
       "    .dataframe tbody tr th {\n",
       "        vertical-align: top;\n",
       "    }\n",
       "\n",
       "    .dataframe thead th {\n",
       "        text-align: right;\n",
       "    }\n",
       "</style>\n",
       "<table border=\"1\" class=\"dataframe\">\n",
       "  <thead>\n",
       "    <tr style=\"text-align: right;\">\n",
       "      <th></th>\n",
       "      <th>count</th>\n",
       "      <th>unique</th>\n",
       "      <th>top</th>\n",
       "      <th>freq</th>\n",
       "      <th>mean</th>\n",
       "      <th>std</th>\n",
       "      <th>min</th>\n",
       "      <th>25%</th>\n",
       "      <th>50%</th>\n",
       "      <th>75%</th>\n",
       "      <th>max</th>\n",
       "    </tr>\n",
       "  </thead>\n",
       "  <tbody>\n",
       "    <tr>\n",
       "      <th>age</th>\n",
       "      <td>45211.0</td>\n",
       "      <td>NaN</td>\n",
       "      <td>NaN</td>\n",
       "      <td>NaN</td>\n",
       "      <td>40.93621</td>\n",
       "      <td>10.618762</td>\n",
       "      <td>18.0</td>\n",
       "      <td>33.0</td>\n",
       "      <td>39.0</td>\n",
       "      <td>48.0</td>\n",
       "      <td>95.0</td>\n",
       "    </tr>\n",
       "    <tr>\n",
       "      <th>job</th>\n",
       "      <td>45211</td>\n",
       "      <td>12</td>\n",
       "      <td>blue-collar</td>\n",
       "      <td>9732</td>\n",
       "      <td>NaN</td>\n",
       "      <td>NaN</td>\n",
       "      <td>NaN</td>\n",
       "      <td>NaN</td>\n",
       "      <td>NaN</td>\n",
       "      <td>NaN</td>\n",
       "      <td>NaN</td>\n",
       "    </tr>\n",
       "    <tr>\n",
       "      <th>marital</th>\n",
       "      <td>45211</td>\n",
       "      <td>3</td>\n",
       "      <td>married</td>\n",
       "      <td>27214</td>\n",
       "      <td>NaN</td>\n",
       "      <td>NaN</td>\n",
       "      <td>NaN</td>\n",
       "      <td>NaN</td>\n",
       "      <td>NaN</td>\n",
       "      <td>NaN</td>\n",
       "      <td>NaN</td>\n",
       "    </tr>\n",
       "    <tr>\n",
       "      <th>education</th>\n",
       "      <td>45211</td>\n",
       "      <td>4</td>\n",
       "      <td>secondary</td>\n",
       "      <td>23202</td>\n",
       "      <td>NaN</td>\n",
       "      <td>NaN</td>\n",
       "      <td>NaN</td>\n",
       "      <td>NaN</td>\n",
       "      <td>NaN</td>\n",
       "      <td>NaN</td>\n",
       "      <td>NaN</td>\n",
       "    </tr>\n",
       "    <tr>\n",
       "      <th>default</th>\n",
       "      <td>45211</td>\n",
       "      <td>2</td>\n",
       "      <td>no</td>\n",
       "      <td>44396</td>\n",
       "      <td>NaN</td>\n",
       "      <td>NaN</td>\n",
       "      <td>NaN</td>\n",
       "      <td>NaN</td>\n",
       "      <td>NaN</td>\n",
       "      <td>NaN</td>\n",
       "      <td>NaN</td>\n",
       "    </tr>\n",
       "    <tr>\n",
       "      <th>balance</th>\n",
       "      <td>45211.0</td>\n",
       "      <td>NaN</td>\n",
       "      <td>NaN</td>\n",
       "      <td>NaN</td>\n",
       "      <td>1362.272058</td>\n",
       "      <td>3044.765829</td>\n",
       "      <td>-8019.0</td>\n",
       "      <td>72.0</td>\n",
       "      <td>448.0</td>\n",
       "      <td>1428.0</td>\n",
       "      <td>102127.0</td>\n",
       "    </tr>\n",
       "    <tr>\n",
       "      <th>housing</th>\n",
       "      <td>45211</td>\n",
       "      <td>2</td>\n",
       "      <td>yes</td>\n",
       "      <td>25130</td>\n",
       "      <td>NaN</td>\n",
       "      <td>NaN</td>\n",
       "      <td>NaN</td>\n",
       "      <td>NaN</td>\n",
       "      <td>NaN</td>\n",
       "      <td>NaN</td>\n",
       "      <td>NaN</td>\n",
       "    </tr>\n",
       "    <tr>\n",
       "      <th>loan</th>\n",
       "      <td>45211</td>\n",
       "      <td>2</td>\n",
       "      <td>no</td>\n",
       "      <td>37967</td>\n",
       "      <td>NaN</td>\n",
       "      <td>NaN</td>\n",
       "      <td>NaN</td>\n",
       "      <td>NaN</td>\n",
       "      <td>NaN</td>\n",
       "      <td>NaN</td>\n",
       "      <td>NaN</td>\n",
       "    </tr>\n",
       "    <tr>\n",
       "      <th>contact</th>\n",
       "      <td>45211</td>\n",
       "      <td>3</td>\n",
       "      <td>cellular</td>\n",
       "      <td>29285</td>\n",
       "      <td>NaN</td>\n",
       "      <td>NaN</td>\n",
       "      <td>NaN</td>\n",
       "      <td>NaN</td>\n",
       "      <td>NaN</td>\n",
       "      <td>NaN</td>\n",
       "      <td>NaN</td>\n",
       "    </tr>\n",
       "    <tr>\n",
       "      <th>day</th>\n",
       "      <td>45211.0</td>\n",
       "      <td>NaN</td>\n",
       "      <td>NaN</td>\n",
       "      <td>NaN</td>\n",
       "      <td>15.806419</td>\n",
       "      <td>8.322476</td>\n",
       "      <td>1.0</td>\n",
       "      <td>8.0</td>\n",
       "      <td>16.0</td>\n",
       "      <td>21.0</td>\n",
       "      <td>31.0</td>\n",
       "    </tr>\n",
       "    <tr>\n",
       "      <th>month</th>\n",
       "      <td>45211</td>\n",
       "      <td>12</td>\n",
       "      <td>may</td>\n",
       "      <td>13766</td>\n",
       "      <td>NaN</td>\n",
       "      <td>NaN</td>\n",
       "      <td>NaN</td>\n",
       "      <td>NaN</td>\n",
       "      <td>NaN</td>\n",
       "      <td>NaN</td>\n",
       "      <td>NaN</td>\n",
       "    </tr>\n",
       "    <tr>\n",
       "      <th>duration</th>\n",
       "      <td>45211.0</td>\n",
       "      <td>NaN</td>\n",
       "      <td>NaN</td>\n",
       "      <td>NaN</td>\n",
       "      <td>258.16308</td>\n",
       "      <td>257.527812</td>\n",
       "      <td>0.0</td>\n",
       "      <td>103.0</td>\n",
       "      <td>180.0</td>\n",
       "      <td>319.0</td>\n",
       "      <td>4918.0</td>\n",
       "    </tr>\n",
       "    <tr>\n",
       "      <th>campaign</th>\n",
       "      <td>45211.0</td>\n",
       "      <td>NaN</td>\n",
       "      <td>NaN</td>\n",
       "      <td>NaN</td>\n",
       "      <td>2.763841</td>\n",
       "      <td>3.098021</td>\n",
       "      <td>1.0</td>\n",
       "      <td>1.0</td>\n",
       "      <td>2.0</td>\n",
       "      <td>3.0</td>\n",
       "      <td>63.0</td>\n",
       "    </tr>\n",
       "    <tr>\n",
       "      <th>pdays</th>\n",
       "      <td>45211.0</td>\n",
       "      <td>NaN</td>\n",
       "      <td>NaN</td>\n",
       "      <td>NaN</td>\n",
       "      <td>40.197828</td>\n",
       "      <td>100.128746</td>\n",
       "      <td>-1.0</td>\n",
       "      <td>-1.0</td>\n",
       "      <td>-1.0</td>\n",
       "      <td>-1.0</td>\n",
       "      <td>871.0</td>\n",
       "    </tr>\n",
       "    <tr>\n",
       "      <th>previous</th>\n",
       "      <td>45211.0</td>\n",
       "      <td>NaN</td>\n",
       "      <td>NaN</td>\n",
       "      <td>NaN</td>\n",
       "      <td>0.580323</td>\n",
       "      <td>2.303441</td>\n",
       "      <td>0.0</td>\n",
       "      <td>0.0</td>\n",
       "      <td>0.0</td>\n",
       "      <td>0.0</td>\n",
       "      <td>275.0</td>\n",
       "    </tr>\n",
       "    <tr>\n",
       "      <th>poutcome</th>\n",
       "      <td>45211</td>\n",
       "      <td>4</td>\n",
       "      <td>unknown</td>\n",
       "      <td>36959</td>\n",
       "      <td>NaN</td>\n",
       "      <td>NaN</td>\n",
       "      <td>NaN</td>\n",
       "      <td>NaN</td>\n",
       "      <td>NaN</td>\n",
       "      <td>NaN</td>\n",
       "      <td>NaN</td>\n",
       "    </tr>\n",
       "    <tr>\n",
       "      <th>y</th>\n",
       "      <td>45211</td>\n",
       "      <td>2</td>\n",
       "      <td>no</td>\n",
       "      <td>39922</td>\n",
       "      <td>NaN</td>\n",
       "      <td>NaN</td>\n",
       "      <td>NaN</td>\n",
       "      <td>NaN</td>\n",
       "      <td>NaN</td>\n",
       "      <td>NaN</td>\n",
       "      <td>NaN</td>\n",
       "    </tr>\n",
       "  </tbody>\n",
       "</table>\n",
       "</div>"
      ],
      "text/plain": [
       "             count unique          top   freq         mean          std  \\\n",
       "age        45211.0    NaN          NaN    NaN     40.93621    10.618762   \n",
       "job          45211     12  blue-collar   9732          NaN          NaN   \n",
       "marital      45211      3      married  27214          NaN          NaN   \n",
       "education    45211      4    secondary  23202          NaN          NaN   \n",
       "default      45211      2           no  44396          NaN          NaN   \n",
       "balance    45211.0    NaN          NaN    NaN  1362.272058  3044.765829   \n",
       "housing      45211      2          yes  25130          NaN          NaN   \n",
       "loan         45211      2           no  37967          NaN          NaN   \n",
       "contact      45211      3     cellular  29285          NaN          NaN   \n",
       "day        45211.0    NaN          NaN    NaN    15.806419     8.322476   \n",
       "month        45211     12          may  13766          NaN          NaN   \n",
       "duration   45211.0    NaN          NaN    NaN    258.16308   257.527812   \n",
       "campaign   45211.0    NaN          NaN    NaN     2.763841     3.098021   \n",
       "pdays      45211.0    NaN          NaN    NaN    40.197828   100.128746   \n",
       "previous   45211.0    NaN          NaN    NaN     0.580323     2.303441   \n",
       "poutcome     45211      4      unknown  36959          NaN          NaN   \n",
       "y            45211      2           no  39922          NaN          NaN   \n",
       "\n",
       "              min    25%    50%     75%       max  \n",
       "age          18.0   33.0   39.0    48.0      95.0  \n",
       "job           NaN    NaN    NaN     NaN       NaN  \n",
       "marital       NaN    NaN    NaN     NaN       NaN  \n",
       "education     NaN    NaN    NaN     NaN       NaN  \n",
       "default       NaN    NaN    NaN     NaN       NaN  \n",
       "balance   -8019.0   72.0  448.0  1428.0  102127.0  \n",
       "housing       NaN    NaN    NaN     NaN       NaN  \n",
       "loan          NaN    NaN    NaN     NaN       NaN  \n",
       "contact       NaN    NaN    NaN     NaN       NaN  \n",
       "day           1.0    8.0   16.0    21.0      31.0  \n",
       "month         NaN    NaN    NaN     NaN       NaN  \n",
       "duration      0.0  103.0  180.0   319.0    4918.0  \n",
       "campaign      1.0    1.0    2.0     3.0      63.0  \n",
       "pdays        -1.0   -1.0   -1.0    -1.0     871.0  \n",
       "previous      0.0    0.0    0.0     0.0     275.0  \n",
       "poutcome      NaN    NaN    NaN     NaN       NaN  \n",
       "y             NaN    NaN    NaN     NaN       NaN  "
      ]
     },
     "execution_count": 9,
     "metadata": {},
     "output_type": "execute_result"
    }
   ],
   "source": [
    "df.describe(include='all').T"
   ]
  },
  {
   "cell_type": "code",
   "execution_count": 10,
   "id": "fb002931-c433-4ec1-b690-f4c73d88d00a",
   "metadata": {},
   "outputs": [
    {
     "data": {
      "text/plain": [
       "age          0\n",
       "job          0\n",
       "marital      0\n",
       "education    0\n",
       "default      0\n",
       "balance      0\n",
       "housing      0\n",
       "loan         0\n",
       "contact      0\n",
       "day          0\n",
       "month        0\n",
       "duration     0\n",
       "campaign     0\n",
       "pdays        0\n",
       "previous     0\n",
       "poutcome     0\n",
       "y            0\n",
       "dtype: int64"
      ]
     },
     "execution_count": 10,
     "metadata": {},
     "output_type": "execute_result"
    }
   ],
   "source": [
    "df.isna().sum()"
   ]
  },
  {
   "cell_type": "markdown",
   "id": "279754a2-b138-4cb6-bf81-4da369d50313",
   "metadata": {},
   "source": [
    "# Exploratory Data Analysis"
   ]
  },
  {
   "cell_type": "code",
   "execution_count": 11,
   "id": "e9b28094-5736-4138-ab8a-5ad4d5f5bcf6",
   "metadata": {},
   "outputs": [
    {
     "name": "stderr",
     "output_type": "stream",
     "text": [
      "/home/siddhant/anaconda3/lib/python3.9/site-packages/seaborn/distributions.py:2619: FutureWarning: `distplot` is a deprecated function and will be removed in a future version. Please adapt your code to use either `displot` (a figure-level function with similar flexibility) or `histplot` (an axes-level function for histograms).\n",
      "  warnings.warn(msg, FutureWarning)\n"
     ]
    },
    {
     "data": {
      "text/plain": [
       "<AxesSubplot:xlabel='age', ylabel='Density'>"
      ]
     },
     "execution_count": 11,
     "metadata": {},
     "output_type": "execute_result"
    },
    {
     "data": {
      "image/png": "[encoded data removed]",
      "text/plain": [
       "<Figure size 432x288 with 1 Axes>"
      ]
     },
     "metadata": {
      "needs_background": "light"
     },
     "output_type": "display_data"
    }
   ],
   "source": [
    "# Below graph shows the various age group of the subscriber and distribution of the age group who has subscribed the plan in most.\n",
    "sns.distplot(df.age,color='y')"
   ]
  },
  {
   "cell_type": "code",
   "execution_count": 12,
   "id": "cb85663e-6f92-4abf-8bfb-1351f537b019",
   "metadata": {},
   "outputs": [
    {
     "data": {
      "text/plain": [
       "([0, 1, 2, 3, 4, 5, 6, 7, 8, 9, 10, 11],\n",
       " [Text(0, 0, ''),\n",
       "  Text(0, 0, ''),\n",
       "  Text(0, 0, ''),\n",
       "  Text(0, 0, ''),\n",
       "  Text(0, 0, ''),\n",
       "  Text(0, 0, ''),\n",
       "  Text(0, 0, ''),\n",
       "  Text(0, 0, ''),\n",
       "  Text(0, 0, ''),\n",
       "  Text(0, 0, ''),\n",
       "  Text(0, 0, ''),\n",
       "  Text(0, 0, '')])"
      ]
     },
     "execution_count": 12,
     "metadata": {},
     "output_type": "execute_result"
    },
    {
     "data": {
      "image/png": "[encoded data removed]",
      "text/plain": [
       "<Figure size 432x288 with 1 Axes>"
      ]
     },
     "metadata": {
      "needs_background": "light"
     },
     "output_type": "display_data"
    }
   ],
   "source": [
    "# This graph show that how the customer ocupation is related to the subscriber.\n",
    "sns.histplot(df.job,color='y')\n",
    "plt.xticks(rotation=60)"
   ]
  },
  {
   "cell_type": "code",
   "execution_count": 13,
   "id": "33a1bd8f-e600-426d-8daf-bace449a97a5",
   "metadata": {},
   "outputs": [
    {
     "data": {
      "text/plain": [
       "([0, 1, 2, 3],\n",
       " [Text(0, 0, ''), Text(0, 0, ''), Text(0, 0, ''), Text(0, 0, '')])"
      ]
     },
     "execution_count": 13,
     "metadata": {},
     "output_type": "execute_result"
    },
    {
     "data": {
      "image/png": "[encoded data removed]",
      "text/plain": [
       "<Figure size 432x288 with 1 Axes>"
      ]
     },
     "metadata": {
      "needs_background": "light"
     },
     "output_type": "display_data"
    }
   ],
   "source": [
    "# Below graph show the relation of subscriber with the litracy level.\n",
    "sns.histplot(df.education,color='y')\n",
    "plt.xticks(rotation=60)"
   ]
  },
  {
   "cell_type": "code",
   "execution_count": 14,
   "id": "8ab4549f-1533-466b-9474-1d12db02c542",
   "metadata": {},
   "outputs": [
    {
     "data": {
      "text/plain": [
       "<AxesSubplot:xlabel='default', ylabel='Count'>"
      ]
     },
     "execution_count": 14,
     "metadata": {},
     "output_type": "execute_result"
    },
    {
     "data": {
      "image/png": "[encoded data removed]",
      "text/plain": [
       "<Figure size 432x288 with 1 Axes>"
      ]
     },
     "metadata": {
      "needs_background": "light"
     },
     "output_type": "display_data"
    }
   ],
   "source": [
    "# Here the graph shows that if a customer is already a subscriber and he still subscribed the product.\n",
    "sns.histplot(df.default,color='y')"
   ]
  },
  {
   "cell_type": "code",
   "execution_count": 15,
   "id": "0094c17c-e12b-4a2d-9466-172ec658db85",
   "metadata": {},
   "outputs": [
    {
     "data": {
      "text/plain": [
       "<AxesSubplot:xlabel='housing', ylabel='Count'>"
      ]
     },
     "execution_count": 15,
     "metadata": {},
     "output_type": "execute_result"
    },
    {
     "data": {
      "image/png": "[encoded data removed]",
      "text/plain": [
       "<Figure size 432x288 with 1 Axes>"
      ]
     },
     "metadata": {
      "needs_background": "light"
     },
     "output_type": "display_data"
    }
   ],
   "source": [
    "# the below graph show if the customer has a house or not\n",
    "sns.histplot(df.housing,color='y')"
   ]
  },
  {
   "cell_type": "code",
   "execution_count": 16,
   "id": "bfcc9f70-0fbb-48e9-9dcf-1d8813da44e0",
   "metadata": {},
   "outputs": [
    {
     "data": {
      "text/plain": [
       "<AxesSubplot:xlabel='marital', ylabel='Count'>"
      ]
     },
     "execution_count": 16,
     "metadata": {},
     "output_type": "execute_result"
    },
    {
     "data": {
      "image/png": "[encoded data removed]",
      "text/plain": [
       "<Figure size 432x288 with 1 Axes>"
      ]
     },
     "metadata": {
      "needs_background": "light"
     },
     "output_type": "display_data"
    }
   ],
   "source": [
    "# Below graph show the customer based on there marital status.\n",
    "sns.histplot(df.marital,color='y')"
   ]
  },
  {
   "cell_type": "code",
   "execution_count": 17,
   "id": "22e3ebb1-608f-43b6-912e-da453bf98d72",
   "metadata": {},
   "outputs": [
    {
     "name": "stderr",
     "output_type": "stream",
     "text": [
      "/home/siddhant/anaconda3/lib/python3.9/site-packages/seaborn/distributions.py:2619: FutureWarning: `distplot` is a deprecated function and will be removed in a future version. Please adapt your code to use either `displot` (a figure-level function with similar flexibility) or `histplot` (an axes-level function for histograms).\n",
      "  warnings.warn(msg, FutureWarning)\n"
     ]
    },
    {
     "data": {
      "text/plain": [
       "<AxesSubplot:xlabel='balance', ylabel='Density'>"
      ]
     },
     "execution_count": 17,
     "metadata": {},
     "output_type": "execute_result"
    },
    {
     "data": {
      "image/png": "[encoded data removed]",
      "text/plain": [
       "<Figure size 432x288 with 1 Axes>"
      ]
     },
     "metadata": {
      "needs_background": "light"
     },
     "output_type": "display_data"
    }
   ],
   "source": [
    "# Here we can observe what is the bank balance of the customer.\n",
    "sns.distplot(df.balance,color='y')"
   ]
  },
  {
   "cell_type": "code",
   "execution_count": 21,
   "id": "91628f38-12f2-44ae-bb93-b695f70da7c7",
   "metadata": {},
   "outputs": [
    {
     "data": {
      "text/plain": [
       "<AxesSubplot:xlabel='contact', ylabel='Count'>"
      ]
     },
     "execution_count": 21,
     "metadata": {},
     "output_type": "execute_result"
    },
    {
     "data": {
      "image/png": "[encoded data removed]",
      "text/plain": [
       "<Figure size 432x288 with 1 Axes>"
      ]
     },
     "metadata": {
      "needs_background": "light"
     },
     "output_type": "display_data"
    }
   ],
   "source": [
    "# Below graph show the type of phone device used by the customer\n",
    "sns.histplot(df.contact,color='y')"
   ]
  },
  {
   "cell_type": "code",
   "execution_count": 20,
   "id": "173e0c3f-4d7e-4e29-b4a1-2f5139e3679c",
   "metadata": {},
   "outputs": [
    {
     "data": {
      "text/plain": [
       "([<matplotlib.patches.Wedge at 0x7fe4b020a370>,\n",
       "  <matplotlib.patches.Wedge at 0x7fe4b020a850>,\n",
       "  <matplotlib.patches.Wedge at 0x7fe4b020ad30>,\n",
       "  <matplotlib.patches.Wedge at 0x7fe4b0218250>,\n",
       "  <matplotlib.patches.Wedge at 0x7fe4b0218730>,\n",
       "  <matplotlib.patches.Wedge at 0x7fe4b0218c10>,\n",
       "  <matplotlib.patches.Wedge at 0x7fe4b0224130>,\n",
       "  <matplotlib.patches.Wedge at 0x7fe4b0224610>,\n",
       "  <matplotlib.patches.Wedge at 0x7fe4b0224af0>,\n",
       "  <matplotlib.patches.Wedge at 0x7fe4b0224fd0>,\n",
       "  <matplotlib.patches.Wedge at 0x7fe4b020a340>,\n",
       "  <matplotlib.patches.Wedge at 0x7fe4b02309a0>,\n",
       "  <matplotlib.patches.Wedge at 0x7fe4b0230e80>,\n",
       "  <matplotlib.patches.Wedge at 0x7fe4b01be3a0>,\n",
       "  <matplotlib.patches.Wedge at 0x7fe4b01be880>,\n",
       "  <matplotlib.patches.Wedge at 0x7fe4b01bed60>,\n",
       "  <matplotlib.patches.Wedge at 0x7fe4b01ca280>,\n",
       "  <matplotlib.patches.Wedge at 0x7fe4b01ca760>,\n",
       "  <matplotlib.patches.Wedge at 0x7fe4b01cac40>,\n",
       "  <matplotlib.patches.Wedge at 0x7fe4b01d9160>,\n",
       "  <matplotlib.patches.Wedge at 0x7fe4b01d9640>,\n",
       "  <matplotlib.patches.Wedge at 0x7fe4b01d9b20>,\n",
       "  <matplotlib.patches.Wedge at 0x7fe4b01e5070>,\n",
       "  <matplotlib.patches.Wedge at 0x7fe4b01e5550>,\n",
       "  <matplotlib.patches.Wedge at 0x7fe4b01e5a30>,\n",
       "  <matplotlib.patches.Wedge at 0x7fe4b01e5f10>,\n",
       "  <matplotlib.patches.Wedge at 0x7fe4b01f1430>,\n",
       "  <matplotlib.patches.Wedge at 0x7fe4b01f1910>,\n",
       "  <matplotlib.patches.Wedge at 0x7fe4b01f1df0>,\n",
       "  <matplotlib.patches.Wedge at 0x7fe4a26d6310>,\n",
       "  <matplotlib.patches.Wedge at 0x7fe4a26d67f0>,\n",
       "  <matplotlib.patches.Wedge at 0x7fe4a26d6cd0>,\n",
       "  <matplotlib.patches.Wedge at 0x7fe4a26e51f0>,\n",
       "  <matplotlib.patches.Wedge at 0x7fe4a26e56d0>,\n",
       "  <matplotlib.patches.Wedge at 0x7fe4a26e5bb0>,\n",
       "  <matplotlib.patches.Wedge at 0x7fe4a26f00d0>,\n",
       "  <matplotlib.patches.Wedge at 0x7fe4a26f05b0>,\n",
       "  <matplotlib.patches.Wedge at 0x7fe4a26f0a90>,\n",
       "  <matplotlib.patches.Wedge at 0x7fe4a26f0f70>,\n",
       "  <matplotlib.patches.Wedge at 0x7fe4a26ff490>,\n",
       "  <matplotlib.patches.Wedge at 0x7fe4a26ff970>,\n",
       "  <matplotlib.patches.Wedge at 0x7fe4a26ffe50>,\n",
       "  <matplotlib.patches.Wedge at 0x7fe4a270c370>,\n",
       "  <matplotlib.patches.Wedge at 0x7fe4a270c850>,\n",
       "  <matplotlib.patches.Wedge at 0x7fe4a270cd30>,\n",
       "  <matplotlib.patches.Wedge at 0x7fe4a269b250>,\n",
       "  <matplotlib.patches.Wedge at 0x7fe4a269b730>,\n",
       "  <matplotlib.patches.Wedge at 0x7fe4a269bc10>,\n",
       "  <matplotlib.patches.Wedge at 0x7fe4a26a8130>,\n",
       "  <matplotlib.patches.Wedge at 0x7fe4a26a8610>,\n",
       "  <matplotlib.patches.Wedge at 0x7fe4a26a8940>,\n",
       "  <matplotlib.patches.Wedge at 0x7fe4a26a8e20>,\n",
       "  <matplotlib.patches.Wedge at 0x7fe4a26b5340>,\n",
       "  <matplotlib.patches.Wedge at 0x7fe4a26b5820>,\n",
       "  <matplotlib.patches.Wedge at 0x7fe4a26b5d00>,\n",
       "  <matplotlib.patches.Wedge at 0x7fe4a26c3220>,\n",
       "  <matplotlib.patches.Wedge at 0x7fe4a26c3700>,\n",
       "  <matplotlib.patches.Wedge at 0x7fe4a26c3be0>,\n",
       "  <matplotlib.patches.Wedge at 0x7fe4a2650100>,\n",
       "  <matplotlib.patches.Wedge at 0x7fe4a26505e0>,\n",
       "  <matplotlib.patches.Wedge at 0x7fe4a2650ac0>,\n",
       "  <matplotlib.patches.Wedge at 0x7fe4a2650fa0>,\n",
       "  <matplotlib.patches.Wedge at 0x7fe4a265f4c0>,\n",
       "  <matplotlib.patches.Wedge at 0x7fe4a265f9a0>,\n",
       "  <matplotlib.patches.Wedge at 0x7fe4a265fe80>,\n",
       "  <matplotlib.patches.Wedge at 0x7fe4a266b3a0>,\n",
       "  <matplotlib.patches.Wedge at 0x7fe4a266b880>,\n",
       "  <matplotlib.patches.Wedge at 0x7fe4a266bd60>,\n",
       "  <matplotlib.patches.Wedge at 0x7fe4a2677280>,\n",
       "  <matplotlib.patches.Wedge at 0x7fe4a2677760>,\n",
       "  <matplotlib.patches.Wedge at 0x7fe4a2677c40>,\n",
       "  <matplotlib.patches.Wedge at 0x7fe4a2686160>,\n",
       "  <matplotlib.patches.Wedge at 0x7fe4a2686640>,\n",
       "  <matplotlib.patches.Wedge at 0x7fe4a2686b20>,\n",
       "  <matplotlib.patches.Wedge at 0x7fe4a2612040>,\n",
       "  <matplotlib.patches.Wedge at 0x7fe4a2612520>,\n",
       "  <matplotlib.patches.Wedge at 0x7fe4a2612a00>],\n",
       " [Text(1.0884753815980206, 0.15881229062967187, '32'),\n",
       "  Text(1.0005677631216154, 0.45701657672540386, '31'),\n",
       "  Text(0.8383535051322033, 0.7121540566707102, '33'),\n",
       "  Text(0.6169893897028501, 0.9106723302012116, '34'),\n",
       "  Text(0.3561894458408224, 1.0407348743419758, '35'),\n",
       "  Text(0.07984361343297397, 1.0970984447140402, '36'),\n",
       "  Text(-0.1914479416532241, 1.0832117455219659, '30'),\n",
       "  Text(-0.44338236144332016, 1.0066837048253763, '37'),\n",
       "  Text(-0.653426993522193, 0.8848916115189183, '39'),\n",
       "  Text(-0.8200235834812485, 0.7331857353594464, '38'),\n",
       "  Text(-0.9471223373036844, 0.5594276344447117, '40'),\n",
       "  Text(-1.0334380591729866, 0.3768365399649707, '41'),\n",
       "  Text(-1.083456979249929, 0.19005518702371535, '42'),\n",
       "  Text(-1.0999955360259452, 0.0031338032793557674, '45'),\n",
       "  Text(-1.0852420832782643, -0.17958179384852216, '29'),\n",
       "  Text(-1.0413643488416078, -0.35434487855999036, '46'),\n",
       "  Text(-0.9704093322369539, -0.517982362544739, '43'),\n",
       "  Text(-0.8757485791236873, -0.6656308482656458, '44'),\n",
       "  Text(-0.7628542716715262, -0.7924981767755088, '47'),\n",
       "  Text(-0.6378946054350734, -0.8961531522886209, '28'),\n",
       "  Text(-0.5052273786519041, -0.9771106876196399, '48'),\n",
       "  Text(-0.36564816247415033, -1.0374494789045285, '49'),\n",
       "  Text(-0.22342408991258575, -1.0770708779122817, '50'),\n",
       "  Text(-0.08159687094644155, -1.0969694392514997, '51'),\n",
       "  Text(0.059476544412756814, -1.0983908870091363, '52'),\n",
       "  Text(0.19754173558288485, -1.082117028191915, '27'),\n",
       "  Text(0.3309941253829135, -1.0490199659501245, '53'),\n",
       "  Text(0.45364199100990443, -1.0021022622430158, '57'),\n",
       "  Text(0.564585731980267, -0.9440566462052509, '54'),\n",
       "  Text(0.6668776677264153, -0.8747995063371818, '55'),\n",
       "  Text(0.7604278056778198, -0.7948267436064391, '26'),\n",
       "  Text(0.8430855085961749, -0.7065456992970301, '56'),\n",
       "  Text(0.9140668517981781, -0.6119491730885561, '59'),\n",
       "  Text(0.9731313484238627, -0.512850249794962, '58'),\n",
       "  Text(1.0164831102450043, -0.4204308344860573, '60'),\n",
       "  Text(1.0461645571971092, -0.33991134030005055, '25'),\n",
       "  Text(1.063999043958026, -0.2791165248716152, '24'),\n",
       "  Text(1.0731197215753416, -0.24169001461802517, '23'),\n",
       "  Text(1.0786648486302628, -0.21559718070849765, '61'),\n",
       "  Text(1.0826010589600292, -0.19487161706781167, '22'),\n",
       "  Text(1.0853168864595195, -0.17912916000979467, '62'),\n",
       "  Text(1.0872297115466483, -0.16712735960994582, '21'),\n",
       "  Text(1.0889774636079577, -0.1553321723081843, '63'),\n",
       "  Text(1.0905473258810634, -0.1438976372761619, '64'),\n",
       "  Text(1.0919048283603379, -0.1332060276540873, '70'),\n",
       "  Text(1.0930635591780284, -0.12333716227099166, '66'),\n",
       "  Text(1.0940698545897216, -0.11406644238348755, '65'),\n",
       "  Text(1.0949317758644388, -0.1054723006402469, '71'),\n",
       "  Text(1.0956924665408918, -0.09725234580994375, '67'),\n",
       "  Text(1.096379065552984, -0.08917928356499455, '72'),\n",
       "  Text(1.0969835986053105, -0.08140629208447717, '20'),\n",
       "  Text(1.097491924270038, -0.07423931682100245, '73'),\n",
       "  Text(1.0979253679234953, -0.06752693144263178, '77'),\n",
       "  Text(1.098317758250241, -0.060812021115609544, '69'),\n",
       "  Text(1.0986502197285735, -0.05447655174804392, '75'),\n",
       "  Text(1.098922590879232, -0.04867380461065571, '74'),\n",
       "  Text(1.0991553532557674, -0.04309883303744399, '68'),\n",
       "  Text(1.0993546079523382, -0.037675535483402474, '19'),\n",
       "  Text(1.099518097230093, -0.032556932649066256, '76'),\n",
       "  Text(1.0996500856398879, -0.027743272196835318, '80'),\n",
       "  Text(1.0997578028942263, -0.023081918751792628, '78'),\n",
       "  Text(1.0998379856320406, -0.018878701249168447, '79'),\n",
       "  Text(1.099893776070334, -0.015286639975543437, '83'),\n",
       "  Text(1.0999328636172387, -0.012153005174902441, '82'),\n",
       "  Text(1.099959823333425, -0.00940143884204542, '81'),\n",
       "  Text(1.099976535135277, -0.00718485572510282, '18'),\n",
       "  Text(1.0999858483946436, -0.005579725039490217, '86'),\n",
       "  Text(1.0999919669325973, -0.004203889122738647, '84'),\n",
       "  Text(1.0999955360641254, -0.0031337898777092942, '85'),\n",
       "  Text(1.0999972807843885, -0.002445867320867697, '87'),\n",
       "  Text(1.0999983403547027, -0.001910815768193333, '89'),\n",
       "  Text(1.09999893785066, -0.0015286358035396176, '92'),\n",
       "  Text(1.0999993202433802, -0.0012228916967447045, '93'),\n",
       "  Text(1.0999996176546933, -0.0009171474954732502, '90'),\n",
       "  Text(1.0999998300845772, -0.0006114032233477432, '95'),\n",
       "  Text(1.099999957533015, -0.00030565890398677014, '88'),\n",
       "  Text(1.0999999973502632, -7.635064767812875e-05, '94')])"
      ]
     },
     "execution_count": 20,
     "metadata": {},
     "output_type": "execute_result"
    },
    {
     "data": {
      "image/png": "[encoded data removed]",
      "text/plain": [
       "<Figure size 1080x576 with 1 Axes>"
      ]
     },
     "metadata": {},
     "output_type": "display_data"
    }
   ],
   "source": [
    "# Below is the pie chart to show how age is related to sbscriber\n",
    "plt.figure(figsize=(15,8))\n",
    "neigh_type=df.age.value_counts()\n",
    "a=list(neigh_type.index)\n",
    "b=list(neigh_type.values)\n",
    "plt.pie(b,labels=a)"
   ]
  },
  {
   "cell_type": "code",
   "execution_count": 23,
   "id": "b620517c-142f-47a5-a927-73d2e8a35598",
   "metadata": {},
   "outputs": [
    {
     "data": {
      "text/plain": [
       "([<matplotlib.patches.Wedge at 0x7fe4a0d194f0>,\n",
       "  <matplotlib.patches.Wedge at 0x7fe4a0d199d0>,\n",
       "  <matplotlib.patches.Wedge at 0x7fe4a0d19ee0>,\n",
       "  <matplotlib.patches.Wedge at 0x7fe4a0d28280>],\n",
       " [Text(-0.04558098562748042, 1.0990552186988731, 'secondary'),\n",
       "  Text(-0.5876997095948636, -0.9298435628330785, 'tertiary'),\n",
       "  Text(0.8166522528681857, -0.7369390055393439, 'primary'),\n",
       "  Text(1.0908547224334193, -0.1415484883165761, 'unknown')])"
      ]
     },
     "execution_count": 23,
     "metadata": {},
     "output_type": "execute_result"
    },
    {
     "data": {
      "image/png": "[encoded data removed]",
      "text/plain": [
       "<Figure size 1080x576 with 1 Axes>"
      ]
     },
     "metadata": {},
     "output_type": "display_data"
    }
   ],
   "source": [
    "# Below is the pie chart to show how education is related to sbscriber\n",
    "plt.figure(figsize=(15,8))\n",
    "neigh_type=df.education.value_counts()\n",
    "a=list(neigh_type.index)\n",
    "b=list(neigh_type.values)\n",
    "plt.pie(b,labels=a)"
   ]
  },
  {
   "cell_type": "code",
   "execution_count": 24,
   "id": "7f87b424-6ad2-4bfd-a831-8819eea4ca19",
   "metadata": {},
   "outputs": [
    {
     "data": {
      "text/plain": [
       "([<matplotlib.patches.Wedge at 0x7fe4a0ce1a00>,\n",
       "  <matplotlib.patches.Wedge at 0x7fe4a0ce1ee0>],\n",
       " [Text(-0.19197472005325109, 1.0831185100719478, 'yes'),\n",
       "  Text(0.1919747200532507, -1.0831185100719478, 'no')])"
      ]
     },
     "execution_count": 24,
     "metadata": {},
     "output_type": "execute_result"
    },
    {
     "data": {
      "image/png": "[encoded data removed]",
      "text/plain": [
       "<Figure size 1080x576 with 1 Axes>"
      ]
     },
     "metadata": {},
     "output_type": "display_data"
    }
   ],
   "source": [
    "# Below is the pie chart to show how housing is related to sbscriber\n",
    "plt.figure(figsize=(15,8))\n",
    "neigh_type=df.housing.value_counts()\n",
    "a=list(neigh_type.index)\n",
    "b=list(neigh_type.values)\n",
    "plt.pie(b,labels=a)"
   ]
  },
  {
   "cell_type": "code",
   "execution_count": 25,
   "id": "a6caa8ce-1a86-4fb5-ada9-388777428b78",
   "metadata": {},
   "outputs": [
    {
     "data": {
      "text/plain": [
       "([<matplotlib.patches.Wedge at 0x7fe4a0ca8a60>,\n",
       "  <matplotlib.patches.Wedge at 0x7fe4a0ca8e80>,\n",
       "  <matplotlib.patches.Wedge at 0x7fe4a0cb83a0>],\n",
       " [Text(-0.34626600924200074, 1.0440784696772647, 'married'),\n",
       "  Text(-0.04573369023536169, -1.099048874972108, 'single'),\n",
       "  Text(1.028779331933144, -0.38937525112312166, 'divorced')])"
      ]
     },
     "execution_count": 25,
     "metadata": {},
     "output_type": "execute_result"
    },
    {
     "data": {
      "image/png": "[encoded data removed]",
      "text/plain": [
       "<Figure size 1080x576 with 1 Axes>"
      ]
     },
     "metadata": {},
     "output_type": "display_data"
    }
   ],
   "source": [
    "# Below is the pie chart to show how marital status is related to sbscriber\n",
    "plt.figure(figsize=(15,8))\n",
    "neigh_type=df.marital.value_counts()\n",
    "a=list(neigh_type.index)\n",
    "b=list(neigh_type.values)\n",
    "plt.pie(b,labels=a)"
   ]
  },
  {
   "cell_type": "code",
   "execution_count": 26,
   "id": "b4f2e6a1-bd5a-45ca-bbe5-504d24bea0b1",
   "metadata": {},
   "outputs": [
    {
     "data": {
      "text/plain": [
       "([<matplotlib.patches.Wedge at 0x7fe4a0c70be0>,\n",
       "  <matplotlib.patches.Wedge at 0x7fe4a0c83100>],\n",
       " [Text(-1.0982365078199707, 0.062262130475881854, 'no'),\n",
       "  Text(1.0982365070912954, -0.062262143328922194, 'yes')])"
      ]
     },
     "execution_count": 26,
     "metadata": {},
     "output_type": "execute_result"
    },
    {
     "data": {
      "image/png": "[encoded data removed]",
      "text/plain": [
       "<Figure size 1080x576 with 1 Axes>"
      ]
     },
     "metadata": {},
     "output_type": "display_data"
    }
   ],
   "source": [
    "# Below is the pie chart to show how default subscriber is related to current sbscriber\n",
    "plt.figure(figsize=(15,8))\n",
    "neigh_type=df.default.value_counts()\n",
    "a=list(neigh_type.index)\n",
    "b=list(neigh_type.values)\n",
    "plt.pie(b,labels=a)"
   ]
  },
  {
   "cell_type": "code",
   "execution_count": 27,
   "id": "4b85d3d7-5b94-41a3-9249-30c23bd5993e",
   "metadata": {},
   "outputs": [
    {
     "data": {
      "text/plain": [
       "([<matplotlib.patches.Wedge at 0x7fe4a0c3c7c0>,\n",
       "  <matplotlib.patches.Wedge at 0x7fe4a0c3cca0>,\n",
       "  <matplotlib.patches.Wedge at 0x7fe4a0bcb1c0>],\n",
       " [Text(-0.49242012255599776, 0.983627176780886, 'cellular'),\n",
       "  Text(0.28513777604904644, -1.062401265374719, 'unknown'),\n",
       "  Text(1.0776493911055374, -0.22061683945216995, 'telephone')])"
      ]
     },
     "execution_count": 27,
     "metadata": {},
     "output_type": "execute_result"
    },
    {
     "data": {
      "image/png": "[encoded data removed]",
      "text/plain": [
       "<Figure size 1080x576 with 1 Axes>"
      ]
     },
     "metadata": {},
     "output_type": "display_data"
    }
   ],
   "source": [
    "# Below is the pie chart to show how contact device type is related to sbscriber\n",
    "plt.figure(figsize=(15,8))\n",
    "neigh_type=df.contact.value_counts()\n",
    "a=list(neigh_type.index)\n",
    "b=list(neigh_type.values)\n",
    "plt.pie(b,labels=a)"
   ]
  },
  {
   "cell_type": "markdown",
   "id": "15111899-2e91-4ad6-a65a-8ad5a5544524",
   "metadata": {},
   "source": [
    "# Checking outlier and Handling them"
   ]
  },
  {
   "cell_type": "code",
   "execution_count": 28,
   "id": "7f1a464f-2b41-4dbd-933b-21a0a3e1f93c",
   "metadata": {},
   "outputs": [
    {
     "data": {
      "text/plain": [
       "{'whiskers': [<matplotlib.lines.Line2D at 0x7fe4a0b8a8b0>,\n",
       "  <matplotlib.lines.Line2D at 0x7fe4a0b8ab80>],\n",
       " 'caps': [<matplotlib.lines.Line2D at 0x7fe4a0b8ae50>,\n",
       "  <matplotlib.lines.Line2D at 0x7fe4a0b98160>],\n",
       " 'boxes': [<matplotlib.lines.Line2D at 0x7fe4a0b8a5e0>],\n",
       " 'medians': [<matplotlib.lines.Line2D at 0x7fe4a0b98430>],\n",
       " 'fliers': [<matplotlib.lines.Line2D at 0x7fe4a0b98700>],\n",
       " 'means': []}"
      ]
     },
     "execution_count": 28,
     "metadata": {},
     "output_type": "execute_result"
    },
    {
     "data": {
      "image/png": "[encoded data removed]",
      "text/plain": [
       "<Figure size 432x288 with 1 Axes>"
      ]
     },
     "metadata": {
      "needs_background": "light"
     },
     "output_type": "display_data"
    }
   ],
   "source": [
    "plt.boxplot(df.age)"
   ]
  },
  {
   "cell_type": "code",
   "execution_count": 29,
   "id": "20560d8b-07f7-4d38-8bf3-dca09c6a3a22",
   "metadata": {},
   "outputs": [],
   "source": [
    "#Since customer have age more that 70 is outlier. We will replace all customer having age more that 70 with None that will be further removed.\n",
    "df['age']=df['age'].apply(lambda x: x if x<70 else None)"
   ]
  },
  {
   "cell_type": "code",
   "execution_count": 30,
   "id": "7bb30e9d-7932-4101-a72a-ec82216e43cf",
   "metadata": {},
   "outputs": [
    {
     "data": {
      "text/plain": [
       "{'whiskers': [<matplotlib.lines.Line2D at 0x7fe4a0b741f0>,\n",
       "  <matplotlib.lines.Line2D at 0x7fe4a0b744c0>],\n",
       " 'caps': [<matplotlib.lines.Line2D at 0x7fe4a0b74790>,\n",
       "  <matplotlib.lines.Line2D at 0x7fe4a0b74a60>],\n",
       " 'boxes': [<matplotlib.lines.Line2D at 0x7fe4a0b65ee0>],\n",
       " 'medians': [<matplotlib.lines.Line2D at 0x7fe4a0b74d30>],\n",
       " 'fliers': [<matplotlib.lines.Line2D at 0x7fe4a0b82040>],\n",
       " 'means': []}"
      ]
     },
     "execution_count": 30,
     "metadata": {},
     "output_type": "execute_result"
    },
    {
     "data": {
      "image/png": "[encoded data removed]",
      "text/plain": [
       "<Figure size 432x288 with 1 Axes>"
      ]
     },
     "metadata": {
      "needs_background": "light"
     },
     "output_type": "display_data"
    }
   ],
   "source": [
    "# checking outlier for the balance.\n",
    "plt.boxplot(df.balance)"
   ]
  },
  {
   "cell_type": "code",
   "execution_count": 31,
   "id": "cec83782-9098-4c6a-b14f-e84dcda4399e",
   "metadata": {},
   "outputs": [],
   "source": [
    "# here we'll replace all customer have account balance more that 3500 with None and will them further.\n",
    "df['balance']=df['balance'].apply(lambda x:x if x<3500 else None)\n",
    "\n",
    "#np.where(df['balance'] > 3500)[0].shape\n"
   ]
  },
  {
   "cell_type": "code",
   "execution_count": 32,
   "id": "9b7134b9-a577-4368-8088-4acf836a2af2",
   "metadata": {},
   "outputs": [
    {
     "data": {
      "text/plain": [
       "{'whiskers': [<matplotlib.lines.Line2D at 0x7fe4a0b08f10>,\n",
       "  <matplotlib.lines.Line2D at 0x7fe4a0afb220>],\n",
       " 'caps': [<matplotlib.lines.Line2D at 0x7fe4a0afb4f0>,\n",
       "  <matplotlib.lines.Line2D at 0x7fe4a0afb7c0>],\n",
       " 'boxes': [<matplotlib.lines.Line2D at 0x7fe4a0b08c40>],\n",
       " 'medians': [<matplotlib.lines.Line2D at 0x7fe4a0afba90>],\n",
       " 'fliers': [<matplotlib.lines.Line2D at 0x7fe4a0afbd60>],\n",
       " 'means': []}"
      ]
     },
     "execution_count": 32,
     "metadata": {},
     "output_type": "execute_result"
    },
    {
     "data": {
      "image/png": "[encoded data removed]",
      "text/plain": [
       "<Figure size 432x288 with 1 Axes>"
      ]
     },
     "metadata": {
      "needs_background": "light"
     },
     "output_type": "display_data"
    }
   ],
   "source": [
    "# Checking outlier for the duration.\n",
    "plt.boxplot(df['duration'])"
   ]
  },
  {
   "cell_type": "code",
   "execution_count": 33,
   "id": "91e788b5-8e08-4d96-9dab-fed48071fc01",
   "metadata": {},
   "outputs": [],
   "source": [
    "# Since the outlier of duration is a significant number of customer we'll replacing outlier with mean\n",
    "duration_mean=df['duration'].mean()\n",
    "df['duration']=df['duration'].apply(lambda x: x if x<550 else duration_mean)\n",
    "\n",
    "#np.where(df['duration'] > 700)[0].shape"
   ]
  },
  {
   "cell_type": "code",
   "execution_count": 34,
   "id": "015f5889-75b8-48ff-a56e-e0a126746479",
   "metadata": {},
   "outputs": [
    {
     "data": {
      "text/plain": [
       "age           554\n",
       "job             0\n",
       "marital         0\n",
       "education       0\n",
       "default         0\n",
       "balance      4651\n",
       "housing         0\n",
       "loan            0\n",
       "contact         0\n",
       "day             0\n",
       "month           0\n",
       "duration        0\n",
       "campaign        0\n",
       "pdays           0\n",
       "previous        0\n",
       "poutcome        0\n",
       "y               0\n",
       "dtype: int64"
      ]
     },
     "execution_count": 34,
     "metadata": {},
     "output_type": "execute_result"
    }
   ],
   "source": [
    "# after replacing the above outlier with None we're left with the below details having None.\n",
    "df.isna().sum()"
   ]
  },
  {
   "cell_type": "code",
   "execution_count": 35,
   "id": "c3758ae6-40b2-4c84-b02d-23e6e8f0d584",
   "metadata": {},
   "outputs": [],
   "source": [
    "# Remove all None value\n",
    "df.dropna(inplace=True,axis=0)"
   ]
  },
  {
   "cell_type": "code",
   "execution_count": 36,
   "id": "6f915dd0-528c-4eb4-978a-833f54237a91",
   "metadata": {},
   "outputs": [
    {
     "data": {
      "text/html": [
       "<div>\n",
       "<style scoped>\n",
       "    .dataframe tbody tr th:only-of-type {\n",
       "        vertical-align: middle;\n",
       "    }\n",
       "\n",
       "    .dataframe tbody tr th {\n",
       "        vertical-align: top;\n",
       "    }\n",
       "\n",
       "    .dataframe thead th {\n",
       "        text-align: right;\n",
       "    }\n",
       "</style>\n",
       "<table border=\"1\" class=\"dataframe\">\n",
       "  <thead>\n",
       "    <tr style=\"text-align: right;\">\n",
       "      <th></th>\n",
       "      <th>age</th>\n",
       "      <th>job</th>\n",
       "      <th>marital</th>\n",
       "      <th>education</th>\n",
       "      <th>default</th>\n",
       "      <th>balance</th>\n",
       "      <th>housing</th>\n",
       "      <th>loan</th>\n",
       "      <th>contact</th>\n",
       "      <th>day</th>\n",
       "      <th>month</th>\n",
       "      <th>duration</th>\n",
       "      <th>campaign</th>\n",
       "      <th>pdays</th>\n",
       "      <th>previous</th>\n",
       "      <th>poutcome</th>\n",
       "      <th>y</th>\n",
       "    </tr>\n",
       "  </thead>\n",
       "  <tbody>\n",
       "    <tr>\n",
       "      <th>0</th>\n",
       "      <td>58.0</td>\n",
       "      <td>management</td>\n",
       "      <td>married</td>\n",
       "      <td>tertiary</td>\n",
       "      <td>no</td>\n",
       "      <td>2143.0</td>\n",
       "      <td>yes</td>\n",
       "      <td>no</td>\n",
       "      <td>unknown</td>\n",
       "      <td>5</td>\n",
       "      <td>may</td>\n",
       "      <td>261.0</td>\n",
       "      <td>1</td>\n",
       "      <td>-1</td>\n",
       "      <td>0</td>\n",
       "      <td>unknown</td>\n",
       "      <td>no</td>\n",
       "    </tr>\n",
       "    <tr>\n",
       "      <th>1</th>\n",
       "      <td>44.0</td>\n",
       "      <td>technician</td>\n",
       "      <td>single</td>\n",
       "      <td>secondary</td>\n",
       "      <td>no</td>\n",
       "      <td>29.0</td>\n",
       "      <td>yes</td>\n",
       "      <td>no</td>\n",
       "      <td>unknown</td>\n",
       "      <td>5</td>\n",
       "      <td>may</td>\n",
       "      <td>151.0</td>\n",
       "      <td>1</td>\n",
       "      <td>-1</td>\n",
       "      <td>0</td>\n",
       "      <td>unknown</td>\n",
       "      <td>no</td>\n",
       "    </tr>\n",
       "    <tr>\n",
       "      <th>2</th>\n",
       "      <td>33.0</td>\n",
       "      <td>entrepreneur</td>\n",
       "      <td>married</td>\n",
       "      <td>secondary</td>\n",
       "      <td>no</td>\n",
       "      <td>2.0</td>\n",
       "      <td>yes</td>\n",
       "      <td>yes</td>\n",
       "      <td>unknown</td>\n",
       "      <td>5</td>\n",
       "      <td>may</td>\n",
       "      <td>76.0</td>\n",
       "      <td>1</td>\n",
       "      <td>-1</td>\n",
       "      <td>0</td>\n",
       "      <td>unknown</td>\n",
       "      <td>no</td>\n",
       "    </tr>\n",
       "    <tr>\n",
       "      <th>3</th>\n",
       "      <td>47.0</td>\n",
       "      <td>blue-collar</td>\n",
       "      <td>married</td>\n",
       "      <td>unknown</td>\n",
       "      <td>no</td>\n",
       "      <td>1506.0</td>\n",
       "      <td>yes</td>\n",
       "      <td>no</td>\n",
       "      <td>unknown</td>\n",
       "      <td>5</td>\n",
       "      <td>may</td>\n",
       "      <td>92.0</td>\n",
       "      <td>1</td>\n",
       "      <td>-1</td>\n",
       "      <td>0</td>\n",
       "      <td>unknown</td>\n",
       "      <td>no</td>\n",
       "    </tr>\n",
       "    <tr>\n",
       "      <th>4</th>\n",
       "      <td>33.0</td>\n",
       "      <td>unknown</td>\n",
       "      <td>single</td>\n",
       "      <td>unknown</td>\n",
       "      <td>no</td>\n",
       "      <td>1.0</td>\n",
       "      <td>no</td>\n",
       "      <td>no</td>\n",
       "      <td>unknown</td>\n",
       "      <td>5</td>\n",
       "      <td>may</td>\n",
       "      <td>198.0</td>\n",
       "      <td>1</td>\n",
       "      <td>-1</td>\n",
       "      <td>0</td>\n",
       "      <td>unknown</td>\n",
       "      <td>no</td>\n",
       "    </tr>\n",
       "  </tbody>\n",
       "</table>\n",
       "</div>"
      ],
      "text/plain": [
       "    age           job  marital  education default  balance housing loan  \\\n",
       "0  58.0    management  married   tertiary      no   2143.0     yes   no   \n",
       "1  44.0    technician   single  secondary      no     29.0     yes   no   \n",
       "2  33.0  entrepreneur  married  secondary      no      2.0     yes  yes   \n",
       "3  47.0   blue-collar  married    unknown      no   1506.0     yes   no   \n",
       "4  33.0       unknown   single    unknown      no      1.0      no   no   \n",
       "\n",
       "   contact  day month  duration  campaign  pdays  previous poutcome   y  \n",
       "0  unknown    5   may     261.0         1     -1         0  unknown  no  \n",
       "1  unknown    5   may     151.0         1     -1         0  unknown  no  \n",
       "2  unknown    5   may      76.0         1     -1         0  unknown  no  \n",
       "3  unknown    5   may      92.0         1     -1         0  unknown  no  \n",
       "4  unknown    5   may     198.0         1     -1         0  unknown  no  "
      ]
     },
     "execution_count": 36,
     "metadata": {},
     "output_type": "execute_result"
    }
   ],
   "source": [
    "df.head()"
   ]
  },
  {
   "cell_type": "code",
   "execution_count": 37,
   "id": "7eb88b85-f469-4a76-ac69-a2d95773b77a",
   "metadata": {},
   "outputs": [
    {
     "data": {
      "text/plain": [
       "(40138, 17)"
      ]
     },
     "execution_count": 37,
     "metadata": {},
     "output_type": "execute_result"
    }
   ],
   "source": [
    "df.shape"
   ]
  },
  {
   "cell_type": "markdown",
   "id": "bb1f330d-5dab-470c-895a-7d94526510af",
   "metadata": {},
   "source": [
    "# Feature Engineering"
   ]
  },
  {
   "cell_type": "code",
   "execution_count": 38,
   "id": "9e7ec3b5-d265-444b-b37f-dd1f99141ac7",
   "metadata": {},
   "outputs": [],
   "source": [
    "subscribe={'no':0,\n",
    "           'yes':1}"
   ]
  },
  {
   "cell_type": "code",
   "execution_count": 39,
   "id": "285ce6f1-4102-45fc-8adb-01613f81f141",
   "metadata": {},
   "outputs": [],
   "source": [
    "# Since the dependent variable that we've been given is a String we'll be converting it to numberical value.\n",
    "df['subscribed']=df.y.map(subscribe)\n",
    "df.drop('y',axis=1,inplace=True)"
   ]
  },
  {
   "cell_type": "code",
   "execution_count": 40,
   "id": "dfd4d80b-2f7a-47fa-be90-34ee7f8d9738",
   "metadata": {},
   "outputs": [],
   "source": [
    "education_feature={\n",
    "    'unknown':0,\n",
    "    'primary':1,\n",
    "    'secondary':2,\n",
    "    'tertiary':3\n",
    "}\n",
    "df['education_cat']=df.education.map(education_feature)\n",
    "df.drop('education',axis=1,inplace=True)"
   ]
  },
  {
   "cell_type": "code",
   "execution_count": 41,
   "id": "e7c3ab3d-9de4-4dda-bd3d-c407ab28bc3d",
   "metadata": {},
   "outputs": [],
   "source": [
    "df['default_cat']=df.default.map(subscribe)\n",
    "df.drop('default',axis=1,inplace=True)"
   ]
  },
  {
   "cell_type": "code",
   "execution_count": 42,
   "id": "cdcc6cd1-0125-4921-9ced-3821bb3a5e28",
   "metadata": {},
   "outputs": [],
   "source": [
    "df['housing_cat']=df.housing.map(subscribe)\n",
    "df.drop('housing',axis=1,inplace=True)"
   ]
  },
  {
   "cell_type": "code",
   "execution_count": 43,
   "id": "1bbf2598-5591-41bc-9c4f-edf9fddb5800",
   "metadata": {},
   "outputs": [],
   "source": [
    "df['loan_cat']=df.loan.map(subscribe)\n",
    "df.drop('loan',axis=1,inplace=True)"
   ]
  },
  {
   "cell_type": "code",
   "execution_count": 44,
   "id": "e6c9e527-82e6-4dc0-8a81-28eb501464a6",
   "metadata": {},
   "outputs": [],
   "source": [
    "month_feature={\n",
    "    'jan':1,\n",
    "    'feb':2,\n",
    "    'mar':3,\n",
    "    'apr':4,\n",
    "    'may':5,\n",
    "    'jun':6,\n",
    "    'jul':7,\n",
    "    'aug':8,\n",
    "    'sep':9,\n",
    "    'oct':10,\n",
    "    'nov':11,\n",
    "    'dec':12\n",
    "}"
   ]
  },
  {
   "cell_type": "code",
   "execution_count": 45,
   "id": "0c3fa549-555b-4137-8a45-0ec6fa8d432f",
   "metadata": {},
   "outputs": [],
   "source": [
    "df['month_cat']=df.month.map(month_feature)\n",
    "df.drop('month',axis=1,inplace=True)"
   ]
  },
  {
   "cell_type": "code",
   "execution_count": 46,
   "id": "9371c663-c641-4305-9d2f-671c56aca34f",
   "metadata": {},
   "outputs": [],
   "source": [
    "df2=pd.get_dummies(df,columns=['marital','job','contact','poutcome'])"
   ]
  },
  {
   "cell_type": "code",
   "execution_count": 47,
   "id": "359f295b-7872-4d75-aa95-445e711fd2b8",
   "metadata": {},
   "outputs": [
    {
     "data": {
      "text/plain": [
       "(40138, 35)"
      ]
     },
     "execution_count": 47,
     "metadata": {},
     "output_type": "execute_result"
    }
   ],
   "source": [
    "df2.shape"
   ]
  },
  {
   "cell_type": "markdown",
   "id": "33dc48f8-6a0a-4f6e-b98a-02cc20862082",
   "metadata": {},
   "source": [
    "# Checking correlation"
   ]
  },
  {
   "cell_type": "code",
   "execution_count": 48,
   "id": "bf0daabd-6ad7-42d1-aa95-3f86288d60f6",
   "metadata": {},
   "outputs": [
    {
     "data": {
      "text/plain": [
       "<AxesSubplot:>"
      ]
     },
     "execution_count": 48,
     "metadata": {},
     "output_type": "execute_result"
    },
    {
     "data": {
      "image/png": "[encoded data removed]",
      "text/plain": [
       "<Figure size 1080x576 with 2 Axes>"
      ]
     },
     "metadata": {
      "needs_background": "light"
     },
     "output_type": "display_data"
    }
   ],
   "source": [
    "fig=plt.figure(figsize=(15,8))\n",
    "ax=fig.gca()\n",
    "corr=df.corr()\n",
    "sns.heatmap(abs(corr),cmap='coolwarm',annot=True)"
   ]
  },
  {
   "cell_type": "code",
   "execution_count": 49,
   "id": "ab7d116c-874c-4abd-a53b-646d9c76ff32",
   "metadata": {},
   "outputs": [
    {
     "data": {
      "text/plain": [
       "Index(['age', 'balance', 'day', 'duration', 'campaign', 'pdays', 'previous',\n",
       "       'subscribed', 'education_cat', 'default_cat', 'housing_cat', 'loan_cat',\n",
       "       'month_cat', 'marital_divorced', 'marital_married', 'marital_single',\n",
       "       'job_admin.', 'job_blue-collar', 'job_entrepreneur', 'job_housemaid',\n",
       "       'job_management', 'job_retired', 'job_self-employed', 'job_services',\n",
       "       'job_student', 'job_technician', 'job_unemployed', 'job_unknown',\n",
       "       'contact_cellular', 'contact_telephone', 'contact_unknown',\n",
       "       'poutcome_failure', 'poutcome_other', 'poutcome_success',\n",
       "       'poutcome_unknown'],\n",
       "      dtype='object')"
      ]
     },
     "execution_count": 49,
     "metadata": {},
     "output_type": "execute_result"
    }
   ],
   "source": [
    "df2.columns"
   ]
  },
  {
   "cell_type": "code",
   "execution_count": 50,
   "id": "905703fa-69d4-49c4-a5b5-70749d0879e6",
   "metadata": {},
   "outputs": [],
   "source": [
    "X_feature=['age', 'balance', 'day', 'duration', 'campaign', 'pdays', 'previous',\n",
    "        'education_cat', 'default_cat', 'housing_cat', 'loan_cat',\n",
    "       'month_cat', 'marital_divorced', 'marital_married', 'marital_single',\n",
    "       'job_admin.', 'job_blue-collar', 'job_entrepreneur', 'job_housemaid',\n",
    "       'job_management', 'job_retired', 'job_self-employed', 'job_services',\n",
    "       'job_student', 'job_technician', 'job_unemployed', 'job_unknown',\n",
    "       'contact_cellular', 'contact_telephone', 'contact_unknown',\n",
    "       'poutcome_failure', 'poutcome_other', 'poutcome_success',\n",
    "       'poutcome_unknown']"
   ]
  },
  {
   "cell_type": "code",
   "execution_count": 51,
   "id": "21109a3f-293a-4830-8336-2d9c5ea38348",
   "metadata": {},
   "outputs": [],
   "source": [
    "col=['age', 'balance', 'day', 'duration', 'campaign', 'pdays', 'previous',\n",
    "        'education_cat', 'default_cat', 'housing_cat', 'loan_cat',\n",
    "       'month_cat', 'marital_divorced', 'marital_married', 'marital_single',\n",
    "       'job_admin.', 'job_blue-collar', 'job_entrepreneur', 'job_housemaid',\n",
    "       'job_management', 'job_retired', 'job_self-employed', 'job_services',\n",
    "       'job_student', 'job_technician', 'job_unemployed', 'job_unknown',\n",
    "       'contact_cellular', 'contact_telephone', 'contact_unknown',\n",
    "       'poutcome_failure', 'poutcome_other', 'poutcome_success',\n",
    "       'poutcome_unknown']\n",
    "\n",
    "X=df2[col]\n",
    "Y=df2['subscribed']"
   ]
  },
  {
   "cell_type": "code",
   "execution_count": 52,
   "id": "9d35beb9-bed1-4968-8174-9dfa968ae8ca",
   "metadata": {},
   "outputs": [
    {
     "data": {
      "text/plain": [
       "(40138, 34)"
      ]
     },
     "execution_count": 52,
     "metadata": {},
     "output_type": "execute_result"
    }
   ],
   "source": [
    "X.shape"
   ]
  },
  {
   "cell_type": "code",
   "execution_count": 53,
   "id": "f818e1ed-4cdd-4245-8afd-38828c56d985",
   "metadata": {},
   "outputs": [
    {
     "data": {
      "text/plain": [
       "age                  0\n",
       "balance              0\n",
       "day                  0\n",
       "duration             0\n",
       "campaign             0\n",
       "pdays                0\n",
       "previous             0\n",
       "education_cat        0\n",
       "default_cat          0\n",
       "housing_cat          0\n",
       "loan_cat             0\n",
       "month_cat            0\n",
       "marital_divorced     0\n",
       "marital_married      0\n",
       "marital_single       0\n",
       "job_admin.           0\n",
       "job_blue-collar      0\n",
       "job_entrepreneur     0\n",
       "job_housemaid        0\n",
       "job_management       0\n",
       "job_retired          0\n",
       "job_self-employed    0\n",
       "job_services         0\n",
       "job_student          0\n",
       "job_technician       0\n",
       "job_unemployed       0\n",
       "job_unknown          0\n",
       "contact_cellular     0\n",
       "contact_telephone    0\n",
       "contact_unknown      0\n",
       "poutcome_failure     0\n",
       "poutcome_other       0\n",
       "poutcome_success     0\n",
       "poutcome_unknown     0\n",
       "dtype: int64"
      ]
     },
     "execution_count": 53,
     "metadata": {},
     "output_type": "execute_result"
    }
   ],
   "source": [
    "X.isna().sum()"
   ]
  },
  {
   "cell_type": "markdown",
   "id": "fd94ca59-0515-4f43-b6c6-064e7e025191",
   "metadata": {},
   "source": [
    "# Model Experimentation"
   ]
  },
  {
   "cell_type": "code",
   "execution_count": 54,
   "id": "676ff861-65be-477a-8012-0cbb852b10fa",
   "metadata": {},
   "outputs": [],
   "source": [
    "from sklearn.metrics import f1_score\n",
    "from sklearn.metrics import precision_score\n",
    "from sklearn.metrics import recall_score\n",
    "from sklearn.preprocessing import MinMaxScaler"
   ]
  },
  {
   "cell_type": "code",
   "execution_count": 55,
   "id": "ec81090a-0d9a-4040-be56-7b2a61db7a14",
   "metadata": {},
   "outputs": [],
   "source": [
    "X_train,X_test,Y_train,Y_test=train_test_split(X,Y,test_size=0.05,random_state=5)\n",
    "scaling=MinMaxScaler()\n",
    "X_train=scaling.fit_transform(X_train)\n",
    "X_test=scaling.transform(X_test)"
   ]
  },
  {
   "cell_type": "code",
   "execution_count": 56,
   "id": "43d76eeb-a581-4e5c-92ea-f413040fd85f",
   "metadata": {},
   "outputs": [],
   "source": [
    "model1=LogisticRegression()\n"
   ]
  },
  {
   "cell_type": "code",
   "execution_count": 57,
   "id": "f024511e-bf67-4c67-80ad-61b80708c328",
   "metadata": {},
   "outputs": [
    {
     "name": "stderr",
     "output_type": "stream",
     "text": [
      "/home/siddhant/anaconda3/lib/python3.9/site-packages/sklearn/linear_model/_logistic.py:814: ConvergenceWarning: lbfgs failed to converge (status=1):\n",
      "STOP: TOTAL NO. of ITERATIONS REACHED LIMIT.\n",
      "\n",
      "Increase the number of iterations (max_iter) or scale the data as shown in:\n",
      "    https://scikit-learn.org/stable/modules/preprocessing.html\n",
      "Please also refer to the documentation for alternative solver options:\n",
      "    https://scikit-learn.org/stable/modules/linear_model.html#logistic-regression\n",
      "  n_iter_i = _check_optimize_result(\n"
     ]
    },
    {
     "data": {
      "text/plain": [
       "LogisticRegression()"
      ]
     },
     "execution_count": 57,
     "metadata": {},
     "output_type": "execute_result"
    }
   ],
   "source": [
    "model1.fit(X_train,Y_train)"
   ]
  },
  {
   "cell_type": "code",
   "execution_count": 58,
   "id": "ebdce234-5775-41d9-a998-418a97026364",
   "metadata": {},
   "outputs": [
    {
     "data": {
      "text/plain": [
       "0.9013138915842752"
      ]
     },
     "execution_count": 58,
     "metadata": {},
     "output_type": "execute_result"
    }
   ],
   "source": [
    "model1.score(X_train,Y_train)"
   ]
  },
  {
   "cell_type": "code",
   "execution_count": 59,
   "id": "bcbd2eb7-ac92-4370-9a82-8bbaef1314d7",
   "metadata": {},
   "outputs": [
    {
     "data": {
      "text/plain": [
       "0.8978574987543597"
      ]
     },
     "execution_count": 59,
     "metadata": {},
     "output_type": "execute_result"
    }
   ],
   "source": [
    "model1.score(X_test,Y_test)"
   ]
  },
  {
   "cell_type": "code",
   "execution_count": 60,
   "id": "22bbb688-5012-4247-a8ec-2e28f9fc793f",
   "metadata": {},
   "outputs": [
    {
     "data": {
      "text/plain": [
       "array([[33619,   384],\n",
       "       [ 3379,   749]])"
      ]
     },
     "execution_count": 60,
     "metadata": {},
     "output_type": "execute_result"
    }
   ],
   "source": [
    "confusion_matrix(Y_train,model1.predict(X_train))"
   ]
  },
  {
   "cell_type": "code",
   "execution_count": 61,
   "id": "2a7ed437-7030-46a0-b854-0c4afcfb521c",
   "metadata": {},
   "outputs": [
    {
     "name": "stdout",
     "output_type": "stream",
     "text": [
      "********* Train *************\n",
      "Accuracy or R2: 0.9013138915842752\n",
      "F-Score : 0.2847367420642463\n",
      "Precision : 0.6610767872903796\n",
      "Specificity : 0.9887068788048113\n",
      "Sensitivity : 0.1814437984496124\n",
      "Recall : 0.1814437984496124\n"
     ]
    }
   ],
   "source": [
    "con=confusion_matrix(Y_train,model1.predict(X_train))\n",
    "con\n",
    "print('********* Train *************')\n",
    "print(\"Accuracy or R2:\",model1.score(X_train,Y_train))\n",
    "print('F-Score :',f1_score(Y_train,model1.predict(X_train)))\n",
    "print('Precision :',precision_score(Y_train,model1.predict(X_train)))\n",
    "print('Specificity :',(con[0,0]/(con[0,0]+con[0,1])))\n",
    "print('Sensitivity :',(con[1,1]/(con[1,1]+con[1,0])))\n",
    "print('Recall :',recall_score(Y_train,model1.predict(X_train)))"
   ]
  },
  {
   "cell_type": "code",
   "execution_count": 62,
   "id": "c0e63ed9-af06-4023-887a-ae8ad0611309",
   "metadata": {},
   "outputs": [
    {
     "name": "stdout",
     "output_type": "stream",
     "text": [
      "********* Test *************\n",
      "Accuracy or R2: 0.8978574987543597\n",
      "F-Score : 0.32786885245901637\n",
      "Precision : 0.6756756756756757\n",
      "Specificity : 0.9864864864864865\n",
      "Sensitivity : 0.21645021645021645\n",
      "Recall : 0.21645021645021645\n"
     ]
    }
   ],
   "source": [
    "con=confusion_matrix(Y_test,model1.predict(X_test))\n",
    "con\n",
    "print('********* Test *************')\n",
    "print(\"Accuracy or R2:\",model1.score(X_test,Y_test))\n",
    "print('F-Score :',f1_score(Y_test,model1.predict(X_test)))\n",
    "print('Precision :',precision_score(Y_test,model1.predict(X_test)))\n",
    "print('Specificity :',(con[0,0]/(con[0,0]+con[0,1])))\n",
    "print('Sensitivity :',(con[1,1]/(con[1,1]+con[1,0])))\n",
    "print('Recall :',recall_score(Y_test,model1.predict(X_test)))"
   ]
  },
  {
   "cell_type": "markdown",
   "id": "ed89760a-f59e-40f0-b7b3-6a2822ac918c",
   "metadata": {},
   "source": [
    "## **DecisionTreeClassifier**"
   ]
  },
  {
   "cell_type": "code",
   "execution_count": 64,
   "id": "10756ab7-bde4-4f3f-b87f-a834659de367",
   "metadata": {},
   "outputs": [
    {
     "name": "stderr",
     "output_type": "stream",
     "text": [
      "/home/siddhant/anaconda3/lib/python3.9/site-packages/sklearn/model_selection/_validation.py:372: FitFailedWarning: \n",
      "1638 fits failed out of a total of 4914.\n",
      "The score on these train-test partitions for these parameters will be set to nan.\n",
      "If these failures are not expected, you can try to debug them by setting error_score='raise'.\n",
      "\n",
      "Below are more details about the failures:\n",
      "--------------------------------------------------------------------------------\n",
      "1638 fits failed with the following error:\n",
      "Traceback (most recent call last):\n",
      "  File \"/home/siddhant/anaconda3/lib/python3.9/site-packages/sklearn/model_selection/_validation.py\", line 680, in _fit_and_score\n",
      "    estimator.fit(X_train, y_train, **fit_params)\n",
      "  File \"/home/siddhant/anaconda3/lib/python3.9/site-packages/sklearn/tree/_classes.py\", line 937, in fit\n",
      "    super().fit(\n",
      "  File \"/home/siddhant/anaconda3/lib/python3.9/site-packages/sklearn/tree/_classes.py\", line 352, in fit\n",
      "    criterion = CRITERIA_CLF[self.criterion](\n",
      "KeyError: 'log_loss'\n",
      "\n",
      "  warnings.warn(some_fits_failed_message, FitFailedWarning)\n",
      "/home/siddhant/anaconda3/lib/python3.9/site-packages/sklearn/model_selection/_search.py:969: UserWarning: One or more of the test scores are non-finite: [       nan        nan        nan ... 0.89174163 0.89174163 0.89174163]\n",
      "  warnings.warn(\n"
     ]
    },
    {
     "data": {
      "text/plain": [
       "GridSearchCV(cv=3, estimator=DecisionTreeClassifier(),\n",
       "             param_grid={'criterion': ['log_loss', 'gini', 'entropy'],\n",
       "                         'max_features': ['auto', 'sqrt', 'log2'],\n",
       "                         'max_leaf_nodes': [5, 6, 7, 8, 9, 10, 11, 12, 13, 14,\n",
       "                                            15, 16, 17],\n",
       "                         'min_weight_fraction_leaf': [0.01, 0.05, 0.07, 0.09,\n",
       "                                                      0.1, 0.15, 0.12],\n",
       "                         'splitter': ['best', 'random']},\n",
       "             scoring='accuracy')"
      ]
     },
     "execution_count": 64,
     "metadata": {},
     "output_type": "execute_result"
    }
   ],
   "source": [
    "from sklearn.model_selection import GridSearchCV\n",
    "from sklearn.tree import DecisionTreeClassifier\n",
    "model2=DecisionTreeClassifier()\n",
    "parameters = {\n",
    "    'criterion':['log_loss', 'gini', 'entropy'],\n",
    "    'splitter':['best', 'random'],\n",
    "    'max_features':['auto', 'sqrt', 'log2'],\n",
    "    'max_leaf_nodes':[5,6,7,8,9,10,11,12,13,14,15,16,17],\n",
    "    'min_weight_fraction_leaf':[0.01,0.05,0.07,0.09,0.1,0.15,0.12]\n",
    "}\n",
    "\n",
    "model2 = GridSearchCV(model2, parameters, scoring='accuracy', cv=3)\n",
    "model2.fit(X_train,Y_train)"
   ]
  },
  {
   "cell_type": "code",
   "execution_count": 65,
   "id": "06e66fbc-12f4-4c7f-971f-3d3b8754df4e",
   "metadata": {},
   "outputs": [
    {
     "data": {
      "text/plain": [
       "0.8917416275471401"
      ]
     },
     "execution_count": 65,
     "metadata": {},
     "output_type": "execute_result"
    }
   ],
   "source": [
    "model2.score(X_train,Y_train)"
   ]
  },
  {
   "cell_type": "code",
   "execution_count": 66,
   "id": "4196700d-e799-4bf7-862c-0913e7a8ca68",
   "metadata": {},
   "outputs": [
    {
     "data": {
      "text/plain": [
       "0.8849028400597907"
      ]
     },
     "execution_count": 66,
     "metadata": {},
     "output_type": "execute_result"
    }
   ],
   "source": [
    "model2.score(X_test,Y_test)"
   ]
  },
  {
   "cell_type": "code",
   "execution_count": 67,
   "id": "2143dd46-6c9d-4062-a873-c595cb0e00a6",
   "metadata": {},
   "outputs": [
    {
     "data": {
      "text/plain": [
       "array([[34003,     0],\n",
       "       [ 4128,     0]])"
      ]
     },
     "execution_count": 67,
     "metadata": {},
     "output_type": "execute_result"
    }
   ],
   "source": [
    "confusion_matrix(Y_train,model2.predict(X_train))"
   ]
  },
  {
   "cell_type": "code",
   "execution_count": 68,
   "id": "975cd3ea-98f4-48ae-83f0-a47bc82f1190",
   "metadata": {},
   "outputs": [
    {
     "name": "stdout",
     "output_type": "stream",
     "text": [
      "********* Train *************\n",
      "Accuracy or R2: 0.8917416275471401\n",
      "F-Score : 0.0\n",
      "Precision : 0.0\n",
      "Specificity : 1.0\n",
      "Sensitivity : 0.0\n",
      "Recall : 0.0\n"
     ]
    },
    {
     "name": "stderr",
     "output_type": "stream",
     "text": [
      "/home/siddhant/anaconda3/lib/python3.9/site-packages/sklearn/metrics/_classification.py:1318: UndefinedMetricWarning: Precision is ill-defined and being set to 0.0 due to no predicted samples. Use `zero_division` parameter to control this behavior.\n",
      "  _warn_prf(average, modifier, msg_start, len(result))\n"
     ]
    }
   ],
   "source": [
    "con=confusion_matrix(Y_train,model2.predict(X_train))\n",
    "con\n",
    "print('********* Train *************')\n",
    "print(\"Accuracy or R2:\",model2.score(X_train,Y_train))\n",
    "print('F-Score :',f1_score(Y_train,model2.predict(X_train)))\n",
    "print('Precision :',precision_score(Y_train,model2.predict(X_train)))\n",
    "print('Specificity :',(con[0,0]/(con[0,0]+con[0,1])))\n",
    "print('Sensitivity :',(con[1,1]/(con[1,1]+con[1,0])))\n",
    "print('Recall :',recall_score(Y_train,model2.predict(X_train)))"
   ]
  },
  {
   "cell_type": "code",
   "execution_count": 69,
   "id": "51adbd46-bc17-42f0-9b48-6ff93582a1ad",
   "metadata": {},
   "outputs": [
    {
     "name": "stdout",
     "output_type": "stream",
     "text": [
      "********* Test *************\n",
      "Accuracy or R2: 0.8849028400597907\n",
      "F-Score : 0.0\n",
      "Precision : 0.0\n",
      "Specificity : 1.0\n",
      "Sensitivity : 0.0\n",
      "Recall : 0.0\n"
     ]
    },
    {
     "name": "stderr",
     "output_type": "stream",
     "text": [
      "/home/siddhant/anaconda3/lib/python3.9/site-packages/sklearn/metrics/_classification.py:1318: UndefinedMetricWarning: Precision is ill-defined and being set to 0.0 due to no predicted samples. Use `zero_division` parameter to control this behavior.\n",
      "  _warn_prf(average, modifier, msg_start, len(result))\n"
     ]
    }
   ],
   "source": [
    "con=confusion_matrix(Y_test,model2.predict(X_test))\n",
    "con\n",
    "print('********* Test *************')\n",
    "print(\"Accuracy or R2:\",model2.score(X_test,Y_test))\n",
    "print('F-Score :',f1_score(Y_test,model2.predict(X_test)))\n",
    "print('Precision :',precision_score(Y_test,model2.predict(X_test)))\n",
    "print('Specificity :',(con[0,0]/(con[0,0]+con[0,1])))\n",
    "print('Sensitivity :',(con[1,1]/(con[1,1]+con[1,0])))\n",
    "print('Recall :',recall_score(Y_test,model2.predict(X_test)))"
   ]
  },
  {
   "cell_type": "code",
   "execution_count": 70,
   "id": "24c6b2e6-626a-4fb6-99d1-a42b1cee6762",
   "metadata": {},
   "outputs": [
    {
     "data": {
      "text/plain": [
       "GridSearchCV(cv=3, estimator=RandomForestClassifier(max_features='log2'),\n",
       "             param_grid={'max_leaf_nodes': [17, 19, 21, 23, 25, 27, 29, 31, 33,\n",
       "                                            35, 37, 39],\n",
       "                         'min_weight_fraction_leaf': [0.01, 0.009, 0.006, 0.003,\n",
       "                                                      0.001]},\n",
       "             scoring='accuracy')"
      ]
     },
     "execution_count": 70,
     "metadata": {},
     "output_type": "execute_result"
    }
   ],
   "source": [
    "from sklearn.ensemble import RandomForestClassifier\n",
    "model3=RandomForestClassifier(criterion='gini',max_features='log2')\n",
    "parameters = {\n",
    "    'max_leaf_nodes':[17,19,21,23,25,27,29,31,33,35,37,39],\n",
    "    'min_weight_fraction_leaf':[0.01,0.009,0.006,0.003,0.001]\n",
    "}\n",
    "\n",
    "model3 = GridSearchCV(model3, parameters, scoring='accuracy', cv=3)\n",
    "model3.fit(X_train,Y_train)"
   ]
  },
  {
   "cell_type": "code",
   "execution_count": 71,
   "id": "7f8670ff-7437-4500-a939-65b3343028a0",
   "metadata": {},
   "outputs": [
    {
     "data": {
      "text/plain": [
       "{'max_leaf_nodes': 33, 'min_weight_fraction_leaf': 0.001}"
      ]
     },
     "execution_count": 71,
     "metadata": {},
     "output_type": "execute_result"
    }
   ],
   "source": [
    "model3.best_params_\n"
   ]
  },
  {
   "cell_type": "code",
   "execution_count": 72,
   "id": "45b4c2a5-2685-47ac-8853-76a5ab9b0930",
   "metadata": {},
   "outputs": [
    {
     "data": {
      "text/plain": [
       "RandomForestClassifier(max_features='log2', max_leaf_nodes=17,\n",
       "                       min_weight_fraction_leaf=0.01)"
      ]
     },
     "execution_count": 72,
     "metadata": {},
     "output_type": "execute_result"
    }
   ],
   "source": [
    "model3=RandomForestClassifier(criterion='gini',max_features='log2',max_leaf_nodes=17,min_weight_fraction_leaf=0.01)\n",
    "model3.fit(X_train,Y_train)"
   ]
  },
  {
   "cell_type": "code",
   "execution_count": 73,
   "id": "660d130c-0563-4fa9-be50-5b499ecc75e6",
   "metadata": {},
   "outputs": [
    {
     "data": {
      "text/plain": [
       "0.8984553250635966"
      ]
     },
     "execution_count": 73,
     "metadata": {},
     "output_type": "execute_result"
    }
   ],
   "source": [
    "model3.score(X_train,Y_train)"
   ]
  },
  {
   "cell_type": "code",
   "execution_count": 74,
   "id": "86e51d38-5764-4544-9d2b-6e19ab6b86c9",
   "metadata": {},
   "outputs": [
    {
     "data": {
      "text/plain": [
       "0.8933731938216243"
      ]
     },
     "execution_count": 74,
     "metadata": {},
     "output_type": "execute_result"
    }
   ],
   "source": [
    "model3.score(X_test,Y_test)"
   ]
  },
  {
   "cell_type": "code",
   "execution_count": 75,
   "id": "9eefef85-1d9e-4adc-8b76-684df9ea17c1",
   "metadata": {},
   "outputs": [
    {
     "data": {
      "text/plain": [
       "array([[33935,    68],\n",
       "       [ 3804,   324]])"
      ]
     },
     "execution_count": 75,
     "metadata": {},
     "output_type": "execute_result"
    }
   ],
   "source": [
    "confusion_matrix(Y_train,model3.predict(X_train))"
   ]
  },
  {
   "cell_type": "code",
   "execution_count": 76,
   "id": "7929ab48-d8ea-4784-9643-0604b1b57af5",
   "metadata": {},
   "outputs": [
    {
     "name": "stdout",
     "output_type": "stream",
     "text": [
      "********* Train *************\n",
      "Accuracy or R2: 0.8984553250635966\n",
      "F-Score : 0.14336283185840706\n",
      "Precision : 0.826530612244898\n",
      "Specificity : 0.9980001764550187\n",
      "Sensitivity : 0.07848837209302326\n",
      "Recall : 0.07848837209302326\n"
     ]
    }
   ],
   "source": [
    "\n",
    "con=confusion_matrix(Y_train,model3.predict(X_train))\n",
    "con\n",
    "print('********* Train *************')\n",
    "print(\"Accuracy or R2:\",model3.score(X_train,Y_train))\n",
    "print('F-Score :',f1_score(Y_train,model3.predict(X_train)))\n",
    "print('Precision :',precision_score(Y_train,model3.predict(X_train)))\n",
    "print('Specificity :',(con[0,0]/(con[0,0]+con[0,1])))\n",
    "print('Sensitivity :',(con[1,1]/(con[1,1]+con[1,0])))\n",
    "print('Recall :',recall_score(Y_train,model3.predict(X_train)))"
   ]
  },
  {
   "cell_type": "code",
   "execution_count": 77,
   "id": "ecdbe956-d8cf-4723-b657-5b6fbb1a545e",
   "metadata": {},
   "outputs": [
    {
     "name": "stdout",
     "output_type": "stream",
     "text": [
      "********* Test *************\n",
      "Accuracy or R2: 0.8933731938216243\n",
      "F-Score : 0.1507936507936508\n",
      "Precision : 0.9047619047619048\n",
      "Specificity : 0.9988738738738738\n",
      "Sensitivity : 0.08225108225108226\n",
      "Recall : 0.08225108225108226\n"
     ]
    }
   ],
   "source": [
    "con=confusion_matrix(Y_test,model3.predict(X_test))\n",
    "con\n",
    "print('********* Test *************')\n",
    "print(\"Accuracy or R2:\",model3.score(X_test,Y_test))\n",
    "print('F-Score :',f1_score(Y_test,model3.predict(X_test)))\n",
    "print('Precision :',precision_score(Y_test,model3.predict(X_test)))\n",
    "print('Specificity :',(con[0,0]/(con[0,0]+con[0,1])))\n",
    "print('Sensitivity :',(con[1,1]/(con[1,1]+con[1,0])))\n",
    "print('Recall :',recall_score(Y_test,model3.predict(X_test)))"
   ]
  },
  {
   "cell_type": "code",
   "execution_count": 79,
   "id": "e1951d94-8dfe-49b2-a086-d9c5b0d515fd",
   "metadata": {},
   "outputs": [
    {
     "data": {
      "text/plain": [
       "GridSearchCV(cv=5,\n",
       "             estimator=XGBClassifier(base_score=None, booster=None,\n",
       "                                     callbacks=None, colsample_bylevel=None,\n",
       "                                     colsample_bynode=None,\n",
       "                                     colsample_bytree=None,\n",
       "                                     early_stopping_rounds=None,\n",
       "                                     enable_categorical=False, eval_metric=None,\n",
       "                                     feature_types=None, gamma=None,\n",
       "                                     gpu_id=None, grow_policy=None,\n",
       "                                     importance_type=None,\n",
       "                                     interaction_constraints=None,\n",
       "                                     learning_rate=None,...\n",
       "                                     max_cat_threshold=None,\n",
       "                                     max_cat_to_onehot=None,\n",
       "                                     max_delta_step=None, max_depth=None,\n",
       "                                     max_leaves=None, min_child_weight=None,\n",
       "                                     missing=nan, monotone_constraints=None,\n",
       "                                     n_estimators=100, n_jobs=None,\n",
       "                                     num_parallel_tree=None, predictor=None,\n",
       "                                     random_state=None, ...),\n",
       "             param_grid={'learning_rate': [0.01, 0.1, 0.2],\n",
       "                         'max_depth': [3, 4, 5],\n",
       "                         'n_estimators': [100, 200, 300]},\n",
       "             scoring='accuracy')"
      ]
     },
     "execution_count": 79,
     "metadata": {},
     "output_type": "execute_result"
    }
   ],
   "source": [
    "from sklearn.model_selection import cross_val_score\n",
    "from xgboost import XGBClassifier\n",
    "model4= XGBClassifier()\n",
    "\n",
    "parameters = {\n",
    "    'n_estimators': [100, 200, 300],\n",
    "    'learning_rate': [0.01, 0.1, 0.2],\n",
    "    'max_depth': [3, 4, 5],\n",
    "\n",
    "}\n",
    "model4 = GridSearchCV(model4, parameters, scoring='accuracy', cv=5)\n",
    "\n",
    "model4.fit(X_train,Y_train)\n",
    "\n"
   ]
  },
  {
   "cell_type": "code",
   "execution_count": 80,
   "id": "fa6303ce-8e51-480f-a2da-ff36dfd5c597",
   "metadata": {},
   "outputs": [
    {
     "data": {
      "text/plain": [
       "{'learning_rate': 0.1, 'max_depth': 5, 'n_estimators': 300}"
      ]
     },
     "execution_count": 80,
     "metadata": {},
     "output_type": "execute_result"
    }
   ],
   "source": [
    "model4.best_params_"
   ]
  },
  {
   "cell_type": "code",
   "execution_count": 81,
   "id": "f0be26af-ee2c-4176-b75a-009a59f01fb4",
   "metadata": {},
   "outputs": [
    {
     "data": {
      "text/plain": [
       "XGBClassifier(base_score=None, booster=None, callbacks=None,\n",
       "              colsample_bylevel=None, colsample_bynode=None,\n",
       "              colsample_bytree=None, early_stopping_rounds=None,\n",
       "              enable_categorical=False, eval_metric=None, feature_types=None,\n",
       "              gamma=None, gpu_id=None, grow_policy=None, importance_type=None,\n",
       "              interaction_constraints=None, learning_rate=0.2, max_bin=None,\n",
       "              max_cat_threshold=None, max_cat_to_onehot=None,\n",
       "              max_delta_step=None, max_depth=4, max_leaves=None,\n",
       "              min_child_weight=None, missing=nan, monotone_constraints=None,\n",
       "              n_estimators=200, n_jobs=None, num_parallel_tree=None,\n",
       "              predictor=None, random_state=None, ...)"
      ]
     },
     "execution_count": 81,
     "metadata": {},
     "output_type": "execute_result"
    }
   ],
   "source": [
    "model4= XGBClassifier(learning_rate=0.2, max_depth=4, n_estimators=200)\n",
    "model4.fit(X_train,Y_train)"
   ]
  },
  {
   "cell_type": "code",
   "execution_count": 82,
   "id": "efe444e3-cf1f-4ae4-9cac-933cdbd3f2fe",
   "metadata": {},
   "outputs": [
    {
     "data": {
      "text/plain": [
       "0.9313944035037109"
      ]
     },
     "execution_count": 82,
     "metadata": {},
     "output_type": "execute_result"
    }
   ],
   "source": [
    "model4.score(X_train,Y_train)"
   ]
  },
  {
   "cell_type": "code",
   "execution_count": 83,
   "id": "710db359-7182-489d-8d9f-ab384aaa0dcc",
   "metadata": {},
   "outputs": [
    {
     "data": {
      "text/plain": [
       "0.9103139013452914"
      ]
     },
     "execution_count": 83,
     "metadata": {},
     "output_type": "execute_result"
    }
   ],
   "source": [
    "model4.score(X_test,Y_test)"
   ]
  },
  {
   "cell_type": "code",
   "execution_count": 84,
   "id": "31d4a1b1-18b5-4f5e-ab71-318f33012df4",
   "metadata": {},
   "outputs": [
    {
     "name": "stdout",
     "output_type": "stream",
     "text": [
      "********* Train *************\n",
      "Accuracy or R2: 0.9313944035037109\n",
      "F-Score : 0.6177673874926943\n",
      "Precision : 0.7783505154639175\n",
      "Specificity : 0.9822956797929594\n",
      "Sensitivity : 0.5121124031007752\n",
      "Recall : 0.5121124031007752\n"
     ]
    }
   ],
   "source": [
    "con=confusion_matrix(Y_train,model4.predict(X_train))\n",
    "con\n",
    "print('********* Train *************')\n",
    "print(\"Accuracy or R2:\",model4.score(X_train,Y_train))\n",
    "print('F-Score :',f1_score(Y_train,model4.predict(X_train)))\n",
    "print('Precision :',precision_score(Y_train,model4.predict(X_train)))\n",
    "print('Specificity :',(con[0,0]/(con[0,0]+con[0,1])))\n",
    "print('Sensitivity :',(con[1,1]/(con[1,1]+con[1,0])))\n",
    "print('Recall :',recall_score(Y_train,model4.predict(X_train)))"
   ]
  },
  {
   "cell_type": "code",
   "execution_count": 85,
   "id": "f816284e-b252-491c-b4a6-20388799b564",
   "metadata": {},
   "outputs": [
    {
     "name": "stdout",
     "output_type": "stream",
     "text": [
      "********* Test *************\n",
      "Accuracy or R2: 0.9103139013452914\n",
      "F-Score : 0.5384615384615384\n",
      "Precision : 0.660377358490566\n",
      "Specificity : 0.9695945945945946\n",
      "Sensitivity : 0.45454545454545453\n",
      "Recall : 0.45454545454545453\n"
     ]
    }
   ],
   "source": [
    "con=confusion_matrix(Y_test,model4.predict(X_test))\n",
    "con\n",
    "print('********* Test *************')\n",
    "print(\"Accuracy or R2:\",model4.score(X_test,Y_test))\n",
    "print('F-Score :',f1_score(Y_test,model4.predict(X_test)))\n",
    "print('Precision :',precision_score(Y_test,model4.predict(X_test)))\n",
    "print('Specificity :',(con[0,0]/(con[0,0]+con[0,1])))\n",
    "print('Sensitivity :',(con[1,1]/(con[1,1]+con[1,0])))\n",
    "print('Recall :',recall_score(Y_test,model4.predict(X_test)))"
   ]
  },
  {
   "cell_type": "markdown",
   "id": "feb6b798-091f-43ba-bf10-bf1c79c98772",
   "metadata": {},
   "source": [
    "# Conclusion"
   ]
  },
  {
   "cell_type": "markdown",
   "id": "ef0391ac-5a07-4442-9b04-3a38307c24a0",
   "metadata": {},
   "source": [
    "To predict the subscriber of bank product (Bank Term Deposit) based on the data provided by marketing camping, we've tried multiple models such as Linear Regression, Decision Tree, Ramdom Forest and XGBClassifier. After evaluating all the models and hyperparameter tuning, RandomForestClassifier also was able to produce the best. It was able to provide the accuracy score of about 90%.\n",
    "\n",
    "We can further use the model to predict subscribers to the precision of about 82%"
   ]
  },
  {
   "cell_type": "code",
   "execution_count": null,
   "id": "d1a22553-7a5d-4586-8b78-09bf774c0cac",
   "metadata": {},
   "outputs": [],
   "source": []
  }
 ],
 "metadata": {
  "kernelspec": {
   "display_name": "Python 3 (ipykernel)",
   "language": "python",
   "name": "python3"
  },
  "language_info": {
   "codemirror_mode": {
    "name": "ipython",
    "version": 3
   },
   "file_extension": ".py",
   "mimetype": "text/x-python",
   "name": "python",
   "nbconvert_exporter": "python",
   "pygments_lexer": "ipython3",
   "version": "3.9.12"
  }
 },
 "nbformat": 4,
 "nbformat_minor": 5
}
